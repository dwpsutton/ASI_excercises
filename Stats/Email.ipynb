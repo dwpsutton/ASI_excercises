{
 "metadata": {
  "name": "",
  "signature": "sha256:4b02a0095dca79d4abf647d69677c9e621c70555628e2e5cf4dfaf2dbb8ffa0d"
 },
 "nbformat": 3,
 "nbformat_minor": 0,
 "worksheets": [
  {
   "cells": [
    {
     "cell_type": "heading",
     "level": 1,
     "metadata": {},
     "source": [
      "Import relevant libraries"
     ]
    },
    {
     "cell_type": "code",
     "collapsed": false,
     "input": [
      "import numpy as np\n",
      "import pandas as pd\n",
      "import matplotlib as mpl\n",
      "import matplotlib.pyplot as plt\n",
      "import pylab\n",
      "import scipy.stats as stats\n",
      "#mpl.style.available\n",
      "#mpl.style.use('ggplot') \n",
      "%matplotlib inline "
     ],
     "language": "python",
     "metadata": {},
     "outputs": [],
     "prompt_number": 1
    },
    {
     "cell_type": "markdown",
     "metadata": {},
     "source": [
      "\n",
      "##Description\n",
      "These data represent incoming emails for the first three months of 2012 for an email account.\n",
      "##Format\n",
      "A email (email_sent) data frame has 3921 (1252) observations on the following 21 variables.\n",
      "\n",
      "spam: Indicator for whether the email was spam.\n",
      "\n",
      "to_multiple: Indicator for whether the email was addressed to more than one recipient.\n",
      "\n",
      "from: Whether the message was listed as from anyone (this is usually set by default for regular outgoing email).\n",
      "\n",
      "cc: The number of people that were CCed.\n",
      "\n",
      "sent_email: Indicator for whether the sender had been sent an email in the last 30 days.\n",
      "\n",
      "time: Time at which email was sent.\n",
      "\n",
      "image: The number of images attached.\n",
      "\n",
      "attach: The number of attached files.\n",
      "\n",
      "dollar: The number of times a dollar sign or the word \u201cdollar\u201d appeared in the email.\n",
      "\n",
      "winner: Indicates whether \u201cwinner\u201d appeared in the email.\n",
      "\n",
      "inherit: The number of times \u201cinherit\u201d (or an extension, such as \u201cinheritance\u201d) appeared in the email.\n",
      "\n",
      "viagra: The number of times \u201cviagra\u201d appeared in the email.\n",
      "\n",
      "password: The number of times \u201cpassword\u201d appeared in the email.\n",
      "\n",
      "num_char: The number of characters in the email, in thousands.\n",
      "\n",
      "line_breaks: The number of line breaks in the email (does not count text wrapping).\n",
      "\n",
      "format: Indicates whether the email was written using HTML (e.g. may have included bolding or active links).\n",
      "\n",
      "re_subj: Whether the subject started with \u201cRe:\u201d, \u201cRE:\u201d, \u201cre:\u201d, or \u201crE:\u201d\n",
      "\n",
      "exclaim_subj: Whether there was an exclamation point in the subject.\n",
      "\n",
      "urgent_subj: Whether the word \u201curgent\u201d was in the email subject.\n",
      "\n",
      "exclaim_mess: The number of exclamation points in the email message.\n",
      "\n",
      "number: Factor variable saying whether there was no number, a small number (under 1 million), or a big number."
     ]
    },
    {
     "cell_type": "markdown",
     "metadata": {},
     "source": [
      "Load email.txt on a data frame.\n",
      "Use df=pd.read_table('path')"
     ]
    },
    {
     "cell_type": "code",
     "collapsed": false,
     "input": [
      "df= pd.read_table('email.txt')"
     ],
     "language": "python",
     "metadata": {},
     "outputs": [],
     "prompt_number": 4
    },
    {
     "cell_type": "markdown",
     "metadata": {},
     "source": [
      "Explore the first lines of the data by using df.head()"
     ]
    },
    {
     "cell_type": "code",
     "collapsed": false,
     "input": [
      "df.head()"
     ],
     "language": "python",
     "metadata": {},
     "outputs": [
      {
       "html": [
        "<div style=\"max-height:1000px;max-width:1500px;overflow:auto;\">\n",
        "<table border=\"1\" class=\"dataframe\">\n",
        "  <thead>\n",
        "    <tr style=\"text-align: right;\">\n",
        "      <th></th>\n",
        "      <th>spam</th>\n",
        "      <th>to_multiple</th>\n",
        "      <th>from</th>\n",
        "      <th>cc</th>\n",
        "      <th>sent_email</th>\n",
        "      <th>time</th>\n",
        "      <th>image</th>\n",
        "      <th>attach</th>\n",
        "      <th>dollar</th>\n",
        "      <th>winner</th>\n",
        "      <th>...</th>\n",
        "      <th>viagra</th>\n",
        "      <th>password</th>\n",
        "      <th>num_char</th>\n",
        "      <th>line_breaks</th>\n",
        "      <th>format</th>\n",
        "      <th>re_subj</th>\n",
        "      <th>exclaim_subj</th>\n",
        "      <th>urgent_subj</th>\n",
        "      <th>exclaim_mess</th>\n",
        "      <th>number</th>\n",
        "    </tr>\n",
        "  </thead>\n",
        "  <tbody>\n",
        "    <tr>\n",
        "      <th>0</th>\n",
        "      <td> 0</td>\n",
        "      <td> 0</td>\n",
        "      <td> 1</td>\n",
        "      <td> 0</td>\n",
        "      <td> 0</td>\n",
        "      <td> 2011-12-31 22:16:41</td>\n",
        "      <td> 0</td>\n",
        "      <td> 0</td>\n",
        "      <td> 0</td>\n",
        "      <td> no</td>\n",
        "      <td>...</td>\n",
        "      <td> 0</td>\n",
        "      <td> 0</td>\n",
        "      <td> 11.370</td>\n",
        "      <td> 202</td>\n",
        "      <td> 1</td>\n",
        "      <td> 0</td>\n",
        "      <td> 0</td>\n",
        "      <td> 0</td>\n",
        "      <td>  0</td>\n",
        "      <td>   big</td>\n",
        "    </tr>\n",
        "    <tr>\n",
        "      <th>1</th>\n",
        "      <td> 0</td>\n",
        "      <td> 0</td>\n",
        "      <td> 1</td>\n",
        "      <td> 0</td>\n",
        "      <td> 0</td>\n",
        "      <td> 2011-12-31 23:03:59</td>\n",
        "      <td> 0</td>\n",
        "      <td> 0</td>\n",
        "      <td> 0</td>\n",
        "      <td> no</td>\n",
        "      <td>...</td>\n",
        "      <td> 0</td>\n",
        "      <td> 0</td>\n",
        "      <td> 10.504</td>\n",
        "      <td> 202</td>\n",
        "      <td> 1</td>\n",
        "      <td> 0</td>\n",
        "      <td> 0</td>\n",
        "      <td> 0</td>\n",
        "      <td>  1</td>\n",
        "      <td> small</td>\n",
        "    </tr>\n",
        "    <tr>\n",
        "      <th>2</th>\n",
        "      <td> 0</td>\n",
        "      <td> 0</td>\n",
        "      <td> 1</td>\n",
        "      <td> 0</td>\n",
        "      <td> 0</td>\n",
        "      <td> 2012-01-01 08:00:32</td>\n",
        "      <td> 0</td>\n",
        "      <td> 0</td>\n",
        "      <td> 4</td>\n",
        "      <td> no</td>\n",
        "      <td>...</td>\n",
        "      <td> 0</td>\n",
        "      <td> 0</td>\n",
        "      <td>  7.773</td>\n",
        "      <td> 192</td>\n",
        "      <td> 1</td>\n",
        "      <td> 0</td>\n",
        "      <td> 0</td>\n",
        "      <td> 0</td>\n",
        "      <td>  6</td>\n",
        "      <td> small</td>\n",
        "    </tr>\n",
        "    <tr>\n",
        "      <th>3</th>\n",
        "      <td> 0</td>\n",
        "      <td> 0</td>\n",
        "      <td> 1</td>\n",
        "      <td> 0</td>\n",
        "      <td> 0</td>\n",
        "      <td> 2012-01-01 01:09:49</td>\n",
        "      <td> 0</td>\n",
        "      <td> 0</td>\n",
        "      <td> 0</td>\n",
        "      <td> no</td>\n",
        "      <td>...</td>\n",
        "      <td> 0</td>\n",
        "      <td> 0</td>\n",
        "      <td> 13.256</td>\n",
        "      <td> 255</td>\n",
        "      <td> 1</td>\n",
        "      <td> 0</td>\n",
        "      <td> 0</td>\n",
        "      <td> 0</td>\n",
        "      <td> 48</td>\n",
        "      <td> small</td>\n",
        "    </tr>\n",
        "    <tr>\n",
        "      <th>4</th>\n",
        "      <td> 0</td>\n",
        "      <td> 0</td>\n",
        "      <td> 1</td>\n",
        "      <td> 0</td>\n",
        "      <td> 0</td>\n",
        "      <td> 2012-01-01 02:00:01</td>\n",
        "      <td> 0</td>\n",
        "      <td> 0</td>\n",
        "      <td> 0</td>\n",
        "      <td> no</td>\n",
        "      <td>...</td>\n",
        "      <td> 0</td>\n",
        "      <td> 2</td>\n",
        "      <td>  1.231</td>\n",
        "      <td>  29</td>\n",
        "      <td> 0</td>\n",
        "      <td> 0</td>\n",
        "      <td> 0</td>\n",
        "      <td> 0</td>\n",
        "      <td>  1</td>\n",
        "      <td>  none</td>\n",
        "    </tr>\n",
        "  </tbody>\n",
        "</table>\n",
        "<p>5 rows \u00d7 21 columns</p>\n",
        "</div>"
       ],
       "metadata": {},
       "output_type": "pyout",
       "prompt_number": 5,
       "text": [
        "   spam  to_multiple  from  cc  sent_email                 time  image  \\\n",
        "0     0            0     1   0           0  2011-12-31 22:16:41      0   \n",
        "1     0            0     1   0           0  2011-12-31 23:03:59      0   \n",
        "2     0            0     1   0           0  2012-01-01 08:00:32      0   \n",
        "3     0            0     1   0           0  2012-01-01 01:09:49      0   \n",
        "4     0            0     1   0           0  2012-01-01 02:00:01      0   \n",
        "\n",
        "   attach  dollar winner  ...    viagra  password  num_char  line_breaks  \\\n",
        "0       0       0     no  ...         0         0    11.370          202   \n",
        "1       0       0     no  ...         0         0    10.504          202   \n",
        "2       0       4     no  ...         0         0     7.773          192   \n",
        "3       0       0     no  ...         0         0    13.256          255   \n",
        "4       0       0     no  ...         0         2     1.231           29   \n",
        "\n",
        "   format  re_subj  exclaim_subj  urgent_subj  exclaim_mess  number  \n",
        "0       1        0             0            0             0     big  \n",
        "1       1        0             0            0             1   small  \n",
        "2       1        0             0            0             6   small  \n",
        "3       1        0             0            0            48   small  \n",
        "4       0        0             0            0             1    none  \n",
        "\n",
        "[5 rows x 21 columns]"
       ]
      }
     ],
     "prompt_number": 5
    },
    {
     "cell_type": "markdown",
     "metadata": {},
     "source": [
      "Explore the different types of variables  df.dtypes"
     ]
    },
    {
     "cell_type": "code",
     "collapsed": false,
     "input": [
      "print df.dtypes"
     ],
     "language": "python",
     "metadata": {},
     "outputs": [
      {
       "output_type": "stream",
       "stream": "stdout",
       "text": [
        "spam              int64\n",
        "to_multiple       int64\n",
        "from              int64\n",
        "cc                int64\n",
        "sent_email        int64\n",
        "time             object\n",
        "image             int64\n",
        "attach            int64\n",
        "dollar            int64\n",
        "winner           object\n",
        "inherit           int64\n",
        "viagra            int64\n",
        "password          int64\n",
        "num_char        float64\n",
        "line_breaks       int64\n",
        "format            int64\n",
        "re_subj           int64\n",
        "exclaim_subj      int64\n",
        "urgent_subj       int64\n",
        "exclaim_mess      int64\n",
        "number           object\n",
        "dtype: object\n"
       ]
      }
     ],
     "prompt_number": 8
    },
    {
     "cell_type": "markdown",
     "metadata": {},
     "source": [
      "Print the values of the num_char variable. Hint: in order to select a variable from a data base use df.variable or df['variable']."
     ]
    },
    {
     "cell_type": "code",
     "collapsed": false,
     "input": [
      "print df.num_char"
     ],
     "language": "python",
     "metadata": {},
     "outputs": [
      {
       "output_type": "stream",
       "stream": "stdout",
       "text": [
        "0     11.370\n",
        "1     10.504\n",
        "2      7.773\n",
        "3     13.256\n",
        "4      1.231\n",
        "5      1.091\n",
        "6      4.837\n",
        "7      7.421\n",
        "8      3.051\n",
        "9      2.643\n",
        "10     0.869\n",
        "11     4.020\n",
        "12    10.459\n",
        "13    15.075\n",
        "14    19.693\n",
        "...\n",
        "3906     0.073\n",
        "3907     0.015\n",
        "3908     0.249\n",
        "3909     0.341\n",
        "3910     2.402\n",
        "3911     1.055\n",
        "3912     0.819\n",
        "3913     1.597\n",
        "3914     0.333\n",
        "3915    14.584\n",
        "3916     0.332\n",
        "3917     0.323\n",
        "3918     8.656\n",
        "3919    10.185\n",
        "3920     2.225\n",
        "Name: num_char, Length: 3921, dtype: float64\n"
       ]
      }
     ],
     "prompt_number": 9
    },
    {
     "cell_type": "markdown",
     "metadata": {},
     "source": [
      "Use  .describe() to get a summary on num_char"
     ]
    },
    {
     "cell_type": "code",
     "collapsed": false,
     "input": [
      "df.num_char.describe()"
     ],
     "language": "python",
     "metadata": {},
     "outputs": [
      {
       "metadata": {},
       "output_type": "pyout",
       "prompt_number": 10,
       "text": [
        "count    3921.000000\n",
        "mean       10.706586\n",
        "std        14.645786\n",
        "min         0.001000\n",
        "25%         1.459000\n",
        "50%         5.856000\n",
        "75%        14.084000\n",
        "max       190.087000\n",
        "dtype: float64"
       ]
      }
     ],
     "prompt_number": 10
    },
    {
     "cell_type": "markdown",
     "metadata": {},
     "source": [
      "Use plt.scatter() to plot the scatter plot of num_char and line_breaks"
     ]
    },
    {
     "cell_type": "code",
     "collapsed": false,
     "input": [
      "plt.scatter(df.num_char,df.line_breaks)"
     ],
     "language": "python",
     "metadata": {},
     "outputs": [
      {
       "metadata": {},
       "output_type": "pyout",
       "prompt_number": 14,
       "text": [
        "<matplotlib.collections.PathCollection at 0x7f01ebf2d990>"
       ]
      },
      {
       "metadata": {},
       "output_type": "display_data",
       "png": "[encoded data removed]",
       "text": [
        "<matplotlib.figure.Figure at 0x7f01ec1131d0>"
       ]
      }
     ],
     "prompt_number": 14
    },
    {
     "cell_type": "markdown",
     "metadata": {},
     "source": [
      "Describe the relationship between the two variables."
     ]
    },
    {
     "cell_type": "code",
     "collapsed": false,
     "input": [],
     "language": "python",
     "metadata": {},
     "outputs": [],
     "prompt_number": 15
    },
    {
     "cell_type": "markdown",
     "metadata": {},
     "source": [
      "Use  .hist() to get a histogram on num_char"
     ]
    },
    {
     "cell_type": "code",
     "collapsed": false,
     "input": [
      "df.num_char.hist()"
     ],
     "language": "python",
     "metadata": {},
     "outputs": [
      {
       "metadata": {},
       "output_type": "pyout",
       "prompt_number": 15,
       "text": [
        "<matplotlib.axes.AxesSubplot at 0x7f01ec150a50>"
       ]
      },
      {
       "metadata": {},
       "output_type": "display_data",
       "png": "[encoded data removed]",
       "text": [
        "<matplotlib.figure.Figure at 0x7f01ebfa6fd0>"
       ]
      }
     ],
     "prompt_number": 15
    },
    {
     "cell_type": "markdown",
     "metadata": {},
     "source": [
      "Take the log of num_char, by using np.log "
     ]
    },
    {
     "cell_type": "code",
     "collapsed": false,
     "input": [
      "np.log(df.num_char)"
     ],
     "language": "python",
     "metadata": {},
     "outputs": [
      {
       "metadata": {},
       "output_type": "pyout",
       "prompt_number": 17,
       "text": [
        "0     2.430978\n",
        "1     2.351756\n",
        "2     2.050656\n",
        "3     2.584450\n",
        "4     0.207827\n",
        "5     0.087095\n",
        "6     1.576295\n",
        "7     2.004314\n",
        "8     1.115469\n",
        "9     0.971915\n",
        "10   -0.140412\n",
        "11    1.391282\n",
        "12    2.347463\n",
        "13    2.713038\n",
        "14    2.980263\n",
        "...\n",
        "3906   -2.617296\n",
        "3907   -4.199705\n",
        "3908   -1.390302\n",
        "3909   -1.075873\n",
        "3910    0.876302\n",
        "3911    0.053541\n",
        "3912   -0.199671\n",
        "3913    0.468127\n",
        "3914   -1.099613\n",
        "3915    2.679925\n",
        "3916   -1.102620\n",
        "3917   -1.130103\n",
        "3918    2.158253\n",
        "3919    2.320916\n",
        "3920    0.799757\n",
        "Name: num_char, Length: 3921, dtype: float64"
       ]
      }
     ],
     "prompt_number": 17
    },
    {
     "cell_type": "markdown",
     "metadata": {},
     "source": [
      "Produce a histogram of the log values"
     ]
    },
    {
     "cell_type": "code",
     "collapsed": false,
     "input": [
      "np.log(df.num_char).hist()"
     ],
     "language": "python",
     "metadata": {},
     "outputs": [
      {
       "metadata": {},
       "output_type": "pyout",
       "prompt_number": 19,
       "text": [
        "<matplotlib.axes.AxesSubplot at 0x7f01fde9e410>"
       ]
      },
      {
       "metadata": {},
       "output_type": "display_data",
       "png": "[encoded data removed]",
       "text": [
        "<matplotlib.figure.Figure at 0x7f01ec150b90>"
       ]
      }
     ],
     "prompt_number": 19
    },
    {
     "cell_type": "markdown",
     "metadata": {},
     "source": [
      "Add the option normed=True in .hist to take a normalised historgram"
     ]
    },
    {
     "cell_type": "code",
     "collapsed": false,
     "input": [
      "np.log10(df.num_char).hist(normed=True)"
     ],
     "language": "python",
     "metadata": {},
     "outputs": [
      {
       "metadata": {},
       "output_type": "pyout",
       "prompt_number": 21,
       "text": [
        "<matplotlib.axes.AxesSubplot at 0x7f01ebe48f10>"
       ]
      },
      {
       "metadata": {},
       "output_type": "display_data",
       "png": "[encoded data removed]",
       "text": [
        "<matplotlib.figure.Figure at 0x7f01ebbef110>"
       ]
      }
     ],
     "prompt_number": 21
    },
    {
     "cell_type": "markdown",
     "metadata": {},
     "source": [
      "Describe the distribution of log(num_char)"
     ]
    },
    {
     "cell_type": "code",
     "collapsed": false,
     "input": [
      "Slightly skewed log-normal"
     ],
     "language": "python",
     "metadata": {},
     "outputs": [],
     "prompt_number": 19
    },
    {
     "cell_type": "markdown",
     "metadata": {},
     "source": [
      "Use .plot(kind='kde') to get a fitted distribution of log(num_char)"
     ]
    },
    {
     "cell_type": "code",
     "collapsed": false,
     "input": [
      "np.log10(df.num_char).plot(kind='kde')"
     ],
     "language": "python",
     "metadata": {},
     "outputs": [
      {
       "metadata": {},
       "output_type": "pyout",
       "prompt_number": 23,
       "text": [
        "<matplotlib.axes.AxesSubplot at 0x7f01ea0c2650>"
       ]
      },
      {
       "metadata": {},
       "output_type": "display_data",
       "png": "[encoded data removed]",
       "text": [
        "<matplotlib.figure.Figure at 0x7f01ebebca50>"
       ]
      }
     ],
     "prompt_number": 23
    },
    {
     "cell_type": "markdown",
     "metadata": {},
     "source": [
      "Put the histogram and the fitted distribution code to see a combined graph."
     ]
    },
    {
     "cell_type": "code",
     "collapsed": false,
     "input": [
      "np.log10(df.num_char).hist(normed=True)\n",
      "np.log10(df.num_char).plot(color='red',kind='kde')"
     ],
     "language": "python",
     "metadata": {},
     "outputs": [
      {
       "metadata": {},
       "output_type": "pyout",
       "prompt_number": 27,
       "text": [
        "<matplotlib.axes.AxesSubplot at 0x7f01e9fc9250>"
       ]
      },
      {
       "metadata": {},
       "output_type": "display_data",
       "png": "[encoded data removed]",
       "text": [
        "<matplotlib.figure.Figure at 0x7f01e9e03cd0>"
       ]
      }
     ],
     "prompt_number": 27
    },
    {
     "cell_type": "markdown",
     "metadata": {},
     "source": [
      "Use stats.probplot(Variable,plot=pylab) to make the probability graph of log(num_char)."
     ]
    },
    {
     "cell_type": "code",
     "collapsed": false,
     "input": [
      "var= np.array(df.num_char)\n",
      "stats.probplot(np.log10(var),plot=pylab)\n",
      "print stats.kstest(np.log10(var),cdf='norm')"
     ],
     "language": "python",
     "metadata": {},
     "outputs": [
      {
       "output_type": "stream",
       "stream": "stdout",
       "text": [
        "(0.32589203040688131, 0.0)\n"
       ]
      },
      {
       "metadata": {},
       "output_type": "display_data",
       "png": "[encoded data removed]",
       "text": [
        "<matplotlib.figure.Figure at 0x7f01e9c9f8d0>"
       ]
      }
     ],
     "prompt_number": 54
    },
    {
     "cell_type": "markdown",
     "metadata": {},
     "source": [
      "Is log(num_char) normaly distributed? Justify your answer."
     ]
    },
    {
     "cell_type": "code",
     "collapsed": false,
     "input": [
      "Pretty much. R is close to unity. Fails KS test though."
     ],
     "language": "python",
     "metadata": {},
     "outputs": [],
     "prompt_number": 22
    },
    {
     "cell_type": "markdown",
     "metadata": {},
     "source": [
      "Produce a frequency table for the number of spam and no spam emails using .value_counts(). \n",
      "Name it spam_freq."
     ]
    },
    {
     "cell_type": "code",
     "collapsed": false,
     "input": [
      "spam_freq= df.spam.value_counts()\n",
      "spam_freq"
     ],
     "language": "python",
     "metadata": {},
     "outputs": [
      {
       "metadata": {},
       "output_type": "pyout",
       "prompt_number": 58,
       "text": [
        "0    3554\n",
        "1     367\n",
        "dtype: int64"
       ]
      }
     ],
     "prompt_number": 58
    },
    {
     "cell_type": "markdown",
     "metadata": {},
     "source": [
      "Produce a bar plot of the previous results by using .plot(kind='bar')"
     ]
    },
    {
     "cell_type": "code",
     "collapsed": false,
     "input": [
      "spam_freq.plot(kind='bar')"
     ],
     "language": "python",
     "metadata": {},
     "outputs": [
      {
       "metadata": {},
       "output_type": "pyout",
       "prompt_number": 59,
       "text": [
        "<matplotlib.axes.AxesSubplot at 0x7f01e9aed750>"
       ]
      },
      {
       "metadata": {},
       "output_type": "display_data",
       "png": "[encoded data removed]",
       "text": [
        "<matplotlib.figure.Figure at 0x7f01e9fa4d10>"
       ]
      }
     ],
     "prompt_number": 59
    },
    {
     "cell_type": "markdown",
     "metadata": {},
     "source": [
      "Produce a pivot table for spam and number variables using pd.crosstab(Variable1,Variable2) and name it pivot_table."
     ]
    },
    {
     "cell_type": "code",
     "collapsed": false,
     "input": [
      "pivot_table= pd.crosstab(np.array(df.spam),np.array(df.number))\n",
      "pivot_table"
     ],
     "language": "python",
     "metadata": {},
     "outputs": [
      {
       "html": [
        "<div style=\"max-height:1000px;max-width:1500px;overflow:auto;\">\n",
        "<table border=\"1\" class=\"dataframe\">\n",
        "  <thead>\n",
        "    <tr style=\"text-align: right;\">\n",
        "      <th>col_0</th>\n",
        "      <th>big</th>\n",
        "      <th>none</th>\n",
        "      <th>small</th>\n",
        "    </tr>\n",
        "    <tr>\n",
        "      <th>row_0</th>\n",
        "      <th></th>\n",
        "      <th></th>\n",
        "      <th></th>\n",
        "    </tr>\n",
        "  </thead>\n",
        "  <tbody>\n",
        "    <tr>\n",
        "      <th>0</th>\n",
        "      <td> 495</td>\n",
        "      <td> 400</td>\n",
        "      <td> 2659</td>\n",
        "    </tr>\n",
        "    <tr>\n",
        "      <th>1</th>\n",
        "      <td>  50</td>\n",
        "      <td> 149</td>\n",
        "      <td>  168</td>\n",
        "    </tr>\n",
        "  </tbody>\n",
        "</table>\n",
        "</div>"
       ],
       "metadata": {},
       "output_type": "pyout",
       "prompt_number": 66,
       "text": [
        "col_0  big  none  small\n",
        "row_0                  \n",
        "0      495   400   2659\n",
        "1       50   149    168"
       ]
      }
     ],
     "prompt_number": 66
    },
    {
     "cell_type": "markdown",
     "metadata": {},
     "source": [
      "Produce a bar plot for the table"
     ]
    },
    {
     "cell_type": "code",
     "collapsed": false,
     "input": [
      "pivot_table.plot(kind='bar')"
     ],
     "language": "python",
     "metadata": {},
     "outputs": [
      {
       "metadata": {},
       "output_type": "pyout",
       "prompt_number": 67,
       "text": [
        "<matplotlib.axes.AxesSubplot at 0x7f01e9f62590>"
       ]
      },
      {
       "metadata": {},
       "output_type": "display_data",
       "png": "[encoded data removed]",
       "text": [
        "<matplotlib.figure.Figure at 0x7f01e9b34dd0>"
       ]
      }
     ],
     "prompt_number": 67
    },
    {
     "cell_type": "markdown",
     "metadata": {},
     "source": [
      "Produce frequency table by normalising the columns, i.e. use 'Name of your talbe'.div('Name of your talbe'.sum(1).astype(float),axis=0), and name it pivot_freq."
     ]
    },
    {
     "cell_type": "code",
     "collapsed": false,
     "input": [],
     "language": "python",
     "metadata": {},
     "outputs": []
    },
    {
     "cell_type": "markdown",
     "metadata": {},
     "source": [
      "Produce a bar plot from the frequency table."
     ]
    },
    {
     "cell_type": "code",
     "collapsed": false,
     "input": [],
     "language": "python",
     "metadata": {},
     "outputs": []
    },
    {
     "cell_type": "markdown",
     "metadata": {},
     "source": [
      "Add stacked=True to the arguments of the barplot. Compare the graphs."
     ]
    },
    {
     "cell_type": "code",
     "collapsed": false,
     "input": [],
     "language": "python",
     "metadata": {},
     "outputs": []
    }
   ],
   "metadata": {}
  }
 ]
}