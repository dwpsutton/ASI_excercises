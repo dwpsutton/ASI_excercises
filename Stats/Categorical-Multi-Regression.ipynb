{
 "metadata": {
  "name": "",
  "signature": "sha256:0328c73f966772d904d76acfa958184c3fe912b7bcfcece60980216fa2037c9f"
 },
 "nbformat": 3,
 "nbformat_minor": 0,
 "worksheets": [
  {
   "cells": [
    {
     "cell_type": "code",
     "collapsed": false,
     "input": [
      "import pandas as pd\n",
      "import numpy as np\n",
      "import statsmodels.api as sm\n",
      "import matplotlib as mpl\n",
      "import matplotlib.pyplot as plt\n",
      "#mpl.style.available\n",
      "\n",
      "#mpl.style.use('ggplot') \n",
      "import pylab\n",
      "import scipy.stats as stats\n",
      "\n",
      "%matplotlib inline  "
     ],
     "language": "python",
     "metadata": {},
     "outputs": [],
     "prompt_number": 1
    },
    {
     "cell_type": "markdown",
     "metadata": {},
     "source": [
      "##Description\n",
      "Auction data from Ebay for the game Mario Kart for the Nintendo Wii. This data was collected in early October, 2009.\n",
      "##Format\n",
      "A data frame with 143 observations on the following 12 variables. All prices are in US dollars.\n",
      "\n",
      "ID Auction: ID assigned by Ebay. \n",
      "\n",
      "duration: Auction length, in days.\n",
      "\n",
      "nBids: Number of bids.\n",
      "\n",
      "cond: Game condition, either new or used. \n",
      "\n",
      "startPr: Start price of the auction. \n",
      "\n",
      "shipPr: Shipping price.\n",
      "\n",
      "totalPr: Total price, which equals the auction price plus the shipping price.\n",
      "\n",
      "\n",
      "shipSp: Shipping speed or method.\n",
      "\n",
      "sellerRate: The seller\u2019s rating on Ebay. This is the number of positive ratings minus the number of negative ratings for the seller.\n",
      "\n",
      "stockPhoto: Whether the auction feature photo was a stock photo or not. If the picture was used in many auctions, then it was called a stock photo.\n",
      "\n",
      "wheels: Number of Wii wheels included in the auction. These are steering wheel attachments to make it seem as though you are actually driving in the game. When used with the controller, turning the wheel actually causes the character on screen to turn.\n",
      "\n",
      "\n",
      "title: The title of the auctions."
     ]
    },
    {
     "cell_type": "markdown",
     "metadata": {},
     "source": [
      "Load marioKart.txt on a data frame. Use df=pd.read_table('path')"
     ]
    },
    {
     "cell_type": "code",
     "collapsed": false,
     "input": [
      "df= pd.read_table('marioKart.txt')\n",
      "df['n']=df.cond.map(lambda x:1 if x=='new' else 0)\n",
      "df.n"
     ],
     "language": "python",
     "metadata": {},
     "outputs": [
      {
       "metadata": {},
       "output_type": "pyout",
       "prompt_number": 127,
       "text": [
        "0     1\n",
        "1     0\n",
        "2     1\n",
        "3     1\n",
        "4     1\n",
        "5     1\n",
        "6     0\n",
        "7     1\n",
        "8     0\n",
        "9     0\n",
        "10    1\n",
        "11    1\n",
        "12    1\n",
        "13    1\n",
        "14    0\n",
        "...\n",
        "128    1\n",
        "129    1\n",
        "130    1\n",
        "131    0\n",
        "132    0\n",
        "133    0\n",
        "134    0\n",
        "135    1\n",
        "136    0\n",
        "137    0\n",
        "138    0\n",
        "139    0\n",
        "140    1\n",
        "141    0\n",
        "142    1\n",
        "Name: n, Length: 143, dtype: int64"
       ]
      }
     ],
     "prompt_number": 127
    },
    {
     "cell_type": "markdown",
     "metadata": {},
     "source": [
      "Explore the data. Use statistic summaries and graphs."
     ]
    },
    {
     "cell_type": "code",
     "collapsed": false,
     "input": [
      "df.describe()\n",
      "plt.figure(0)\n",
      "plt.subplot(421)\n",
      "df.duration.plot()\n",
      "plt.subplot(422)\n",
      "df.nBids.plot()\n",
      "plt.subplot(423)\n",
      "df.startPr.plot()\n",
      "plt.subplot(424)\n",
      "df.shipPr.plot()\n",
      "plt.subplot(425)\n",
      "df.totalPr.plot()\n",
      "plt.subplot(426)\n",
      "df.sellerRate.plot()\n",
      "plt.subplot(427)\n",
      "df.wheels.plot()"
     ],
     "language": "python",
     "metadata": {},
     "outputs": [
      {
       "metadata": {},
       "output_type": "pyout",
       "prompt_number": 14,
       "text": [
        "<matplotlib.axes.AxesSubplot at 0x7f78b3546d50>"
       ]
      },
      {
       "metadata": {},
       "output_type": "display_data",
       "png": "[encoded data removed]",
       "text": [
        "<matplotlib.figure.Figure at 0x7f78b398dd10>"
       ]
      }
     ],
     "prompt_number": 14
    },
    {
     "cell_type": "markdown",
     "metadata": {},
     "source": [
      "Add an extra column to the dataframe. Name it cond_num"
     ]
    },
    {
     "cell_type": "markdown",
     "metadata": {},
     "source": [
      "Use a for/if loop to change variable **cond** from new,used to 1,0 respectively."
     ]
    },
    {
     "cell_type": "code",
     "collapsed": false,
     "input": [
      "df['cond_num']= np.zeros(len(df.wheels))"
     ],
     "language": "python",
     "metadata": {},
     "outputs": [],
     "prompt_number": 19
    },
    {
     "cell_type": "markdown",
     "metadata": {},
     "source": [
      "Check the first lines of the data base."
     ]
    },
    {
     "cell_type": "code",
     "collapsed": false,
     "input": [
      "for i in range(len(df.cond)):\n",
      "    if df.cond[i] == \"new\":\n",
      "        df.cond_num[i]= 1\n",
      "    elif df.cond[i] == \"used\":\n",
      "        df.cond_num[i] = 0"
     ],
     "language": "python",
     "metadata": {},
     "outputs": [],
     "prompt_number": 21
    },
    {
     "cell_type": "markdown",
     "metadata": {},
     "source": [
      "Produce a scatter plot for the variables cond and totalPr"
     ]
    },
    {
     "cell_type": "code",
     "collapsed": false,
     "input": [
      "plt.scatter( df.cond_num, df.totalPr)"
     ],
     "language": "python",
     "metadata": {},
     "outputs": [
      {
       "metadata": {},
       "output_type": "pyout",
       "prompt_number": 25,
       "text": [
        "<matplotlib.collections.PathCollection at 0x7f78b2b43fd0>"
       ]
      },
      {
       "metadata": {},
       "output_type": "display_data",
       "png": "[encoded data removed]",
       "text": [
        "<matplotlib.figure.Figure at 0x7f78b2d84390>"
       ]
      }
     ],
     "prompt_number": 25
    },
    {
     "cell_type": "markdown",
     "metadata": {},
     "source": [
      "Fit a line to the data, using the following steps:"
     ]
    },
    {
     "cell_type": "code",
     "collapsed": false,
     "input": [
      "##Set X to be the variable that describes the condition of the game\n",
      "X= df.cond_num\n",
      "y= df.totalPr\n",
      "##Set y to be the variable that describes the total price\n",
      " \n",
      "##Add a constanct for the intercept\n",
      "X = sm.add_constant(X)\n",
      " \n",
      "## fit a OLS model with intercept on shoulder girth\n",
      "est = sm.OLS(y, X).fit()\n",
      "##Get the estimated parameters of the regression line\n",
      "est.params"
     ],
     "language": "python",
     "metadata": {},
     "outputs": [
      {
       "metadata": {},
       "output_type": "pyout",
       "prompt_number": 33,
       "text": [
        "const       47.148095\n",
        "cond_num     6.622583\n",
        "dtype: float64"
       ]
      }
     ],
     "prompt_number": 33
    },
    {
     "cell_type": "code",
     "collapsed": false,
     "input": [
      "fitX=  np.array([0,1])\n",
      "fitY= est.params.const + est.params.cond_num * fitX\n",
      "\n",
      "print fitX\n",
      "print fitY\n",
      "plt.scatter(df.cond_num,df.totalPr)\n",
      "plt.plot(fitX,fitY,'r-')"
     ],
     "language": "python",
     "metadata": {},
     "outputs": [
      {
       "output_type": "stream",
       "stream": "stdout",
       "text": [
        "[0 1]\n",
        "[ 47.14809524  53.77067797]\n"
       ]
      },
      {
       "metadata": {},
       "output_type": "pyout",
       "prompt_number": 48,
       "text": [
        "[<matplotlib.lines.Line2D at 0x7f78b2f03a90>]"
       ]
      },
      {
       "metadata": {},
       "output_type": "display_data",
       "png": "[encoded data removed]",
       "text": [
        "<matplotlib.figure.Figure at 0x7f78b32bc690>"
       ]
      }
     ],
     "prompt_number": 48
    },
    {
     "cell_type": "markdown",
     "metadata": {},
     "source": [
      "Write the equation of the regression line and add it to the scatter plot."
     ]
    },
    {
     "cell_type": "code",
     "collapsed": false,
     "input": [],
     "language": "python",
     "metadata": {},
     "outputs": []
    },
    {
     "cell_type": "markdown",
     "metadata": {},
     "source": [
      "Evaluate and plot the residuals."
     ]
    },
    {
     "cell_type": "code",
     "collapsed": false,
     "input": [
      "#residuals= []\n",
      "#abscissa= [0,1]\n",
      "#for i in range(len(df.cond_num)):\n",
      "#    for j in abscissa:\n",
      "#        if df.cond_num[i] == j:\n",
      "#            residuals.append( y[i] - ( est.params.const + est.params.cond_num * j ) )\n",
      "#        else:\n",
      "#            residuals.append( y[i] - ( est.params.const + est.params.cond_num * j ) )\n",
      "#residuals= np.array(residuals)\n",
      "df['residual']= df.totalPr - (est.params.const + est.params.cond_num * df.n) \n",
      "import scipy\n",
      "scipy.stats.probplot(df.residual,plot=pylab)"
     ],
     "language": "python",
     "metadata": {},
     "outputs": [
      {
       "metadata": {},
       "output_type": "pyout",
       "prompt_number": 129,
       "text": [
        "((array([-2.58737924, -2.2656706 , -2.08113048, -1.94835608, -1.84304269,\n",
        "         -1.75491888, -1.678633  , -1.61102627, -1.5500713 , -1.49438581,\n",
        "         -1.44298316, -1.39513338, -1.35028049, -1.30799079, -1.26791911,\n",
        "         -1.22978601, -1.19336194, -1.15845585, -1.12490695, -1.09257858,\n",
        "         -1.06135351, -1.03113038, -1.00182092, -0.97334775, -0.94564261,\n",
        "         -0.91864496, -0.89230082, -0.86656185, -0.84138457, -0.81672966,\n",
        "         -0.79256151, -0.76884767, -0.74555851, -0.72266689, -0.70014786,\n",
        "         -0.67797842, -0.65613731, -0.63460482, -0.61336263, -0.59239368,\n",
        "         -0.57168204, -0.55121279, -0.53097195, -0.51094635, -0.4911236 ,\n",
        "         -0.47149199, -0.45204045, -0.43275847, -0.41363607, -0.39466375,\n",
        "         -0.37583244, -0.35713349, -0.33855859, -0.32009979, -0.30174942,\n",
        "         -0.28350011, -0.26534474, -0.24727641, -0.22928847, -0.21137441,\n",
        "         -0.19352793, -0.17574289, -0.15801327, -0.14033318, -0.12269685,\n",
        "         -0.10509861, -0.08753286, -0.06999408, -0.0524768 , -0.03497561,\n",
        "         -0.01748513,  0.        ,  0.01748513,  0.03497561,  0.0524768 ,\n",
        "          0.06999408,  0.08753286,  0.10509861,  0.12269685,  0.14033318,\n",
        "          0.15801327,  0.17574289,  0.19352793,  0.21137441,  0.22928847,\n",
        "          0.24727641,  0.26534474,  0.28350011,  0.30174942,  0.32009979,\n",
        "          0.33855859,  0.35713349,  0.37583244,  0.39466375,  0.41363607,\n",
        "          0.43275847,  0.45204045,  0.47149199,  0.4911236 ,  0.51094635,\n",
        "          0.53097195,  0.55121279,  0.57168204,  0.59239368,  0.61336263,\n",
        "          0.63460482,  0.65613731,  0.67797842,  0.70014786,  0.72266689,\n",
        "          0.74555851,  0.76884767,  0.79256151,  0.81672966,  0.84138457,\n",
        "          0.86656185,  0.89230082,  0.91864496,  0.94564261,  0.97334775,\n",
        "          1.00182092,  1.03113038,  1.06135351,  1.09257858,  1.12490695,\n",
        "          1.15845585,  1.19336194,  1.22978601,  1.26791911,  1.30799079,\n",
        "          1.35028049,  1.39513338,  1.44298316,  1.49438581,  1.5500713 ,\n",
        "          1.61102627,  1.678633  ,  1.75491888,  1.84304269,  1.94835608,\n",
        "          2.08113048,  2.2656706 ,  2.58737924]),\n",
        "  array([ -1.81680952e+01,  -1.71480952e+01,  -1.61480952e+01,\n",
        "          -1.61480952e+01,  -1.61480952e+01,  -1.60880952e+01,\n",
        "          -1.51480952e+01,  -1.41380952e+01,  -1.36706780e+01,\n",
        "          -1.26480952e+01,  -1.22706780e+01,  -1.21580952e+01,\n",
        "          -1.11580952e+01,  -1.11480952e+01,  -1.11480952e+01,\n",
        "          -1.11480952e+01,  -1.11480952e+01,  -1.01580952e+01,\n",
        "          -1.01480952e+01,  -1.01280952e+01,  -1.01080952e+01,\n",
        "          -9.77067797e+00,  -9.14809524e+00,  -9.08809524e+00,\n",
        "          -9.04809524e+00,  -8.88809524e+00,  -8.77067797e+00,\n",
        "          -8.77067797e+00,  -8.38809524e+00,  -8.27067797e+00,\n",
        "          -8.14809524e+00,  -8.14809524e+00,  -7.78067797e+00,\n",
        "          -7.77067797e+00,  -7.77067797e+00,  -7.77067797e+00,\n",
        "          -7.77067797e+00,  -7.74067797e+00,  -7.63809524e+00,\n",
        "          -7.14809524e+00,  -7.14809524e+00,  -7.09809524e+00,\n",
        "          -7.08809524e+00,  -7.06067797e+00,  -7.04809524e+00,\n",
        "          -6.77067797e+00,  -6.77067797e+00,  -6.77067797e+00,\n",
        "          -6.44809524e+00,  -6.14809524e+00,  -6.14809524e+00,\n",
        "          -6.07067797e+00,  -5.79809524e+00,  -5.77067797e+00,\n",
        "          -5.19809524e+00,  -5.15809524e+00,  -5.15809524e+00,\n",
        "          -5.14809524e+00,  -4.89809524e+00,  -4.78067797e+00,\n",
        "          -4.59809524e+00,  -4.14809524e+00,  -4.14809524e+00,\n",
        "          -4.14809524e+00,  -4.02067797e+00,  -3.86067797e+00,\n",
        "          -3.81809524e+00,  -3.78809524e+00,  -3.27067797e+00,\n",
        "          -3.19809524e+00,  -3.14809524e+00,  -3.14809524e+00,\n",
        "          -3.14809524e+00,  -2.36809524e+00,  -2.22067797e+00,\n",
        "          -2.14809524e+00,  -1.93809524e+00,  -1.78067797e+00,\n",
        "          -1.78067797e+00,  -1.39809524e+00,  -1.18067797e+00,\n",
        "          -1.14809524e+00,  -1.14809524e+00,  -1.14809524e+00,\n",
        "          -1.14809524e+00,  -6.48095238e-01,  -1.48095238e-01,\n",
        "          -1.48095238e-01,  -1.48095238e-01,  -1.48095238e-01,\n",
        "          -1.06779661e-02,  -1.06779661e-02,   2.09322034e-01,\n",
        "           2.19322034e-01,   2.19322034e-01,   2.19322034e-01,\n",
        "           2.19322034e-01,   7.39322034e-01,   8.51904762e-01,\n",
        "           8.51904762e-01,   9.29322034e-01,   1.21932203e+00,\n",
        "           1.21932203e+00,   1.22932203e+00,   1.77190476e+00,\n",
        "           1.85190476e+00,   1.85190476e+00,   1.86190476e+00,\n",
        "           2.21932203e+00,   2.21932203e+00,   2.22932203e+00,\n",
        "           2.22932203e+00,   2.22932203e+00,   2.23932203e+00,\n",
        "           2.34190476e+00,   2.85190476e+00,   2.85190476e+00,\n",
        "           3.72932203e+00,   3.85190476e+00,   4.22932203e+00,\n",
        "           4.85190476e+00,   5.20932203e+00,   5.35190476e+00,\n",
        "           6.10932203e+00,   7.22932203e+00,   7.34190476e+00,\n",
        "           7.85190476e+00,   8.45190476e+00,   9.11932203e+00,\n",
        "           9.72932203e+00,   1.02193220e+01,   1.02293220e+01,\n",
        "           1.11793220e+01,   1.11793220e+01,   1.11793220e+01,\n",
        "           1.26693220e+01,   1.46119048e+01,   1.72293220e+01,\n",
        "           1.73519048e+01,   1.78719048e+01,   2.12293220e+01,\n",
        "           7.13519048e+01,   2.79361905e+02])),\n",
        " (13.662227600719881, 2.7709289848215883e-14, 0.53011218019256856))"
       ]
      },
      {
       "metadata": {},
       "output_type": "display_data",
       "png": "[encoded data removed]",
       "text": [
        "<matplotlib.figure.Figure at 0x7f78b25e7b90>"
       ]
      }
     ],
     "prompt_number": 129
    },
    {
     "cell_type": "markdown",
     "metadata": {},
     "source": [
      "Check for probable outliers in the graph.\n",
      "\n",
      "If there exist are they influencial?"
     ]
    },
    {
     "cell_type": "code",
     "collapsed": false,
     "input": [
      "#print np.mean( residuals[np.where( df.cond_num == 0 )[0]] )/np.std( residuals[np.where( df.cond_num == 0 )[0]] ),np.mean( residuals[np.where( df.cond_num == 1 )[0]] )/np.std( residuals[np.where( df.cond_num == 1 )[0]] )\n",
      "#print np.std( residuals[np.where( df.cond_num == 0 )[0]] ), np.std( residuals[np.where( df.cond_num == 1 )[0]] )\n",
      "#print np.median( residuals[np.where( df.cond_num == 0 )[0]] )/np.std( residuals[np.where( df.cond_num == 0 )[0]] ), np.median( residuals[np.where( df.cond_num == 1 )[0]] )/np.std( residuals[np.where( df.cond_num == 1 )[0]] )"
     ],
     "language": "python",
     "metadata": {},
     "outputs": [],
     "prompt_number": 121
    },
    {
     "cell_type": "markdown",
     "metadata": {},
     "source": [
      "Check the values of the outliers.\n",
      "\n",
      "Should we exclude them from the data?"
     ]
    },
    {
     "cell_type": "markdown",
     "metadata": {},
     "source": [
      "Create a new dataframe by excluding the outliers."
     ]
    },
    {
     "cell_type": "code",
     "collapsed": false,
     "input": [
      "#mycut= np.where(residuals < 100.)[0]\n",
      "#df.residual= residuals\n",
      "#df.residual\n",
      "df1= df[df.totalPr < 100.]\n",
      "df1.describe()"
     ],
     "language": "python",
     "metadata": {},
     "outputs": [
      {
       "html": [
        "<div style=\"max-height:1000px;max-width:1500px;overflow:auto;\">\n",
        "<table border=\"1\" class=\"dataframe\">\n",
        "  <thead>\n",
        "    <tr style=\"text-align: right;\">\n",
        "      <th></th>\n",
        "      <th>ID</th>\n",
        "      <th>duration</th>\n",
        "      <th>nBids</th>\n",
        "      <th>startPr</th>\n",
        "      <th>shipPr</th>\n",
        "      <th>totalPr</th>\n",
        "      <th>sellerRate</th>\n",
        "      <th>wheels</th>\n",
        "      <th>n</th>\n",
        "      <th>residual</th>\n",
        "    </tr>\n",
        "  </thead>\n",
        "  <tbody>\n",
        "    <tr>\n",
        "      <th>count</th>\n",
        "      <td> 1.410000e+02</td>\n",
        "      <td> 141.000000</td>\n",
        "      <td> 141.000000</td>\n",
        "      <td> 141.000000</td>\n",
        "      <td> 141.000000</td>\n",
        "      <td> 141.000000</td>\n",
        "      <td>    141.000000</td>\n",
        "      <td> 141.000000</td>\n",
        "      <td> 141.000000</td>\n",
        "      <td> 141.000000</td>\n",
        "    </tr>\n",
        "    <tr>\n",
        "      <th>mean</th>\n",
        "      <td> 2.249920e+11</td>\n",
        "      <td>   3.751773</td>\n",
        "      <td>  13.382979</td>\n",
        "      <td>   8.845319</td>\n",
        "      <td>   2.979007</td>\n",
        "      <td>  47.431915</td>\n",
        "      <td>  16122.822695</td>\n",
        "      <td>   1.148936</td>\n",
        "      <td>   0.418440</td>\n",
        "      <td>  -2.487332</td>\n",
        "    </tr>\n",
        "    <tr>\n",
        "      <th>std</th>\n",
        "      <td> 8.784150e+10</td>\n",
        "      <td>   2.588866</td>\n",
        "      <td>   5.764001</td>\n",
        "      <td>  15.159511</td>\n",
        "      <td>   2.620350</td>\n",
        "      <td>   9.113651</td>\n",
        "      <td>  52174.553337</td>\n",
        "      <td>   0.844615</td>\n",
        "      <td>   0.495062</td>\n",
        "      <td>   7.643657</td>\n",
        "    </tr>\n",
        "    <tr>\n",
        "      <th>min</th>\n",
        "      <td> 1.104395e+11</td>\n",
        "      <td>   1.000000</td>\n",
        "      <td>   1.000000</td>\n",
        "      <td>   0.010000</td>\n",
        "      <td>   0.000000</td>\n",
        "      <td>  28.980000</td>\n",
        "      <td>      0.000000</td>\n",
        "      <td>   0.000000</td>\n",
        "      <td>   0.000000</td>\n",
        "      <td> -18.168095</td>\n",
        "    </tr>\n",
        "    <tr>\n",
        "      <th>25%</th>\n",
        "      <td> 1.403507e+11</td>\n",
        "      <td>   1.000000</td>\n",
        "      <td>  10.000000</td>\n",
        "      <td>   0.990000</td>\n",
        "      <td>   0.000000</td>\n",
        "      <td>  41.000000</td>\n",
        "      <td>    116.000000</td>\n",
        "      <td>   0.000000</td>\n",
        "      <td>   0.000000</td>\n",
        "      <td>  -7.770678</td>\n",
        "    </tr>\n",
        "    <tr>\n",
        "      <th>50%</th>\n",
        "      <td> 2.303822e+11</td>\n",
        "      <td>   3.000000</td>\n",
        "      <td>  14.000000</td>\n",
        "      <td>   1.000000</td>\n",
        "      <td>   2.990000</td>\n",
        "      <td>  46.030000</td>\n",
        "      <td>    820.000000</td>\n",
        "      <td>   1.000000</td>\n",
        "      <td>   0.000000</td>\n",
        "      <td>  -3.148095</td>\n",
        "    </tr>\n",
        "    <tr>\n",
        "      <th>75%</th>\n",
        "      <td> 3.003523e+11</td>\n",
        "      <td>   7.000000</td>\n",
        "      <td>  17.000000</td>\n",
        "      <td>  10.000000</td>\n",
        "      <td>   4.000000</td>\n",
        "      <td>  53.990000</td>\n",
        "      <td>   4858.000000</td>\n",
        "      <td>   2.000000</td>\n",
        "      <td>   1.000000</td>\n",
        "      <td>   1.851905</td>\n",
        "    </tr>\n",
        "    <tr>\n",
        "      <th>max</th>\n",
        "      <td> 4.000775e+11</td>\n",
        "      <td>  10.000000</td>\n",
        "      <td>  29.000000</td>\n",
        "      <td>  69.950000</td>\n",
        "      <td>  11.450000</td>\n",
        "      <td>  75.000000</td>\n",
        "      <td> 270144.000000</td>\n",
        "      <td>   4.000000</td>\n",
        "      <td>   1.000000</td>\n",
        "      <td>  21.229322</td>\n",
        "    </tr>\n",
        "  </tbody>\n",
        "</table>\n",
        "</div>"
       ],
       "metadata": {},
       "output_type": "pyout",
       "prompt_number": 134,
       "text": [
        "                 ID    duration       nBids     startPr      shipPr  \\\n",
        "count  1.410000e+02  141.000000  141.000000  141.000000  141.000000   \n",
        "mean   2.249920e+11    3.751773   13.382979    8.845319    2.979007   \n",
        "std    8.784150e+10    2.588866    5.764001   15.159511    2.620350   \n",
        "min    1.104395e+11    1.000000    1.000000    0.010000    0.000000   \n",
        "25%    1.403507e+11    1.000000   10.000000    0.990000    0.000000   \n",
        "50%    2.303822e+11    3.000000   14.000000    1.000000    2.990000   \n",
        "75%    3.003523e+11    7.000000   17.000000   10.000000    4.000000   \n",
        "max    4.000775e+11   10.000000   29.000000   69.950000   11.450000   \n",
        "\n",
        "          totalPr     sellerRate      wheels           n    residual  \n",
        "count  141.000000     141.000000  141.000000  141.000000  141.000000  \n",
        "mean    47.431915   16122.822695    1.148936    0.418440   -2.487332  \n",
        "std      9.113651   52174.553337    0.844615    0.495062    7.643657  \n",
        "min     28.980000       0.000000    0.000000    0.000000  -18.168095  \n",
        "25%     41.000000     116.000000    0.000000    0.000000   -7.770678  \n",
        "50%     46.030000     820.000000    1.000000    0.000000   -3.148095  \n",
        "75%     53.990000    4858.000000    2.000000    1.000000    1.851905  \n",
        "max     75.000000  270144.000000    4.000000    1.000000   21.229322  "
       ]
      }
     ],
     "prompt_number": 134
    },
    {
     "cell_type": "markdown",
     "metadata": {},
     "source": [
      "Fit a line to the data, using the following steps:"
     ]
    },
    {
     "cell_type": "code",
     "collapsed": false,
     "input": [
      "##Set X to be the variable that describes the condition of the game\n",
      "\n",
      "X= df1.n\n",
      "y= df1.totalPr\n",
      "    \n",
      "##Set y to be the variable that describes the total price\n",
      " \n",
      "##Add a constanct for the intercept\n",
      "X = sm.add_constant(X)\n",
      " \n",
      "## fit a OLS model with intercept on shoulder girth\n",
      "est = sm.OLS(y, X).fit()\n",
      "##Get the estimated parameters of the regression line\n",
      "est.params"
     ],
     "language": "python",
     "metadata": {},
     "outputs": [
      {
       "metadata": {},
       "output_type": "pyout",
       "prompt_number": 135,
       "text": [
        "const    42.871098\n",
        "n        10.899580\n",
        "dtype: float64"
       ]
      }
     ],
     "prompt_number": 135
    },
    {
     "cell_type": "markdown",
     "metadata": {},
     "source": [
      "Write the equation of the regression line and add it to the scatter plot."
     ]
    },
    {
     "cell_type": "code",
     "collapsed": false,
     "input": [
      "fitX=  np.array([0,1])\n",
      "fitY= est.params.const + est.params.n * fitX\n",
      "\n",
      "print fitX\n",
      "print fitY\n",
      "plt.scatter(df1.n,df1.totalPr)\n",
      "plt.plot(fitX,fitY,'r-')"
     ],
     "language": "python",
     "metadata": {},
     "outputs": [
      {
       "output_type": "stream",
       "stream": "stdout",
       "text": [
        "[0 1]\n",
        "[ 42.87109756  53.77067797]\n"
       ]
      },
      {
       "metadata": {},
       "output_type": "pyout",
       "prompt_number": 136,
       "text": [
        "[<matplotlib.lines.Line2D at 0x7f78b253a350>]"
       ]
      },
      {
       "metadata": {},
       "output_type": "display_data",
       "png": "[encoded data removed]",
       "text": [
        "<matplotlib.figure.Figure at 0x7f78b2667890>"
       ]
      }
     ],
     "prompt_number": 136
    },
    {
     "cell_type": "markdown",
     "metadata": {},
     "source": [
      "Does the data satisfy the conditions to fit a line?\n",
      "\n",
      "**Reminder**\n",
      "\n",
      "*Conditions*\n",
      "1. Linearity \n",
      "2. Nearly normal residuals\n",
      "3. Constant variability"
     ]
    },
    {
     "cell_type": "code",
     "collapsed": false,
     "input": [],
     "language": "python",
     "metadata": {},
     "outputs": []
    },
    {
     "cell_type": "code",
     "collapsed": false,
     "input": [
      "Evaluate the parameters using the following statistical function"
     ],
     "language": "python",
     "metadata": {},
     "outputs": []
    },
    {
     "cell_type": "code",
     "collapsed": false,
     "input": [
      "import statsmodels.formula.api as smf\n",
      "\n",
      "# formula: response ~ predictor + predictor\n",
      "# function C() transforms categorical variables to dummy variables\n",
      "est = smf.ols(formula='totalPr~ C(cond) ', data=).fit()\n",
      "est.params"
     ],
     "language": "python",
     "metadata": {},
     "outputs": [],
     "prompt_number": 63
    },
    {
     "cell_type": "markdown",
     "metadata": {},
     "source": [
      "Are the parameters the same as the previously fitted model?\n"
     ]
    },
    {
     "cell_type": "code",
     "collapsed": false,
     "input": [],
     "language": "python",
     "metadata": {},
     "outputs": []
    },
    {
     "cell_type": "markdown",
     "metadata": {},
     "source": [
      "Run"
     ]
    },
    {
     "cell_type": "code",
     "collapsed": false,
     "input": [
      "est.summary()"
     ],
     "language": "python",
     "metadata": {},
     "outputs": []
    },
    {
     "cell_type": "markdown",
     "metadata": {},
     "source": [
      "Can you explain now, why the parameters are different?"
     ]
    },
    {
     "cell_type": "code",
     "collapsed": false,
     "input": [],
     "language": "python",
     "metadata": {},
     "outputs": []
    },
    {
     "cell_type": "markdown",
     "metadata": {},
     "source": [
      "#Multiple regression"
     ]
    },
    {
     "cell_type": "markdown",
     "metadata": {},
     "source": [
      "##Mario yet again!"
     ]
    },
    {
     "cell_type": "markdown",
     "metadata": {},
     "source": [
      "Use the new dataframe, free of outliers, to fit a **full** model, for the variables cond, stock_photo, duration and wheels."
     ]
    },
    {
     "cell_type": "code",
     "collapsed": false,
     "input": [],
     "language": "python",
     "metadata": {},
     "outputs": []
    },
    {
     "cell_type": "markdown",
     "metadata": {},
     "source": [
      "Apply the Backwards selection strategy to come up with the \"best\" model."
     ]
    },
    {
     "cell_type": "code",
     "collapsed": false,
     "input": [],
     "language": "python",
     "metadata": {},
     "outputs": []
    },
    {
     "cell_type": "markdown",
     "metadata": {},
     "source": [
      "##Does the data satisfy the conditions for a multiple regression model?\n",
      "###Reminder\n",
      "**Conditions**\n",
      "1. The residuals of the model are nearly normal\n",
      "2. the variability of the residuals is nearly constant\n",
      "3. the residuals are independent\n",
      "4. each variable is linearly related to the outcome."
     ]
    },
    {
     "cell_type": "markdown",
     "metadata": {},
     "source": [
      "Produce the respective graphs and comment on them."
     ]
    },
    {
     "cell_type": "code",
     "collapsed": false,
     "input": [],
     "language": "python",
     "metadata": {},
     "outputs": []
    }
   ],
   "metadata": {}
  }
 ]
}