{
 "metadata": {
  "name": "",
  "signature": "sha256:da9b07b1f499deca8c608feb56a702ab9595c091bab3dc3fe78f3639d3fcb7ec"
 },
 "nbformat": 3,
 "nbformat_minor": 0,
 "worksheets": [
  {
   "cells": [
    {
     "cell_type": "code",
     "collapsed": false,
     "input": [
      "import numpy as np\n",
      "from numpy import nan as NA\n",
      "import pandas as pd\n",
      "import matplotlib as mpl\n",
      "import matplotlib.pyplot as plt\n",
      "from scipy.stats import norm\n",
      "from pylab import *\n",
      "import random\n",
      "from scipy.stats import norm\n",
      "from scipy.stats import t\n",
      "from scipy.stats import f as fdist\n",
      "from scipy.stats import f_oneway\n",
      "#mpl.style.available\n",
      "#mpl.style.use('ggplot') \n",
      "%matplotlib inline  "
     ],
     "language": "python",
     "metadata": {},
     "outputs": [],
     "prompt_number": 50
    },
    {
     "cell_type": "markdown",
     "metadata": {},
     "source": [
      "#High School and Beyond survey\n",
      "\n",
      "#Description\n",
      "Two hundred observations were randomly sampled from the High School and Beyond survey, a survey conducted on high school seniors by the National Center of Education Statistics.\n",
      "\n",
      "#Format\n",
      "A data frame with 200 observations and 11 variables.\n",
      "\n",
      "id: Student ID.\n",
      "\n",
      "gender: Student\u2019s gender, with levels female and male.\n",
      "\n",
      "race: Student\u2019s race, with levels african american, asian, hispanic, and white. ses Socio economic status of student\u2019s family, with levels low, middle, and high. schtyp Type of school, with levels public and private.\n",
      "\n",
      "prog: Type of program, with levels general, academic, and vocational.\n",
      "\n",
      "read: Standardized reading score.\n",
      "\n",
      "write: Standardized writing score.\n",
      "\n",
      "math: Standardized math score.\n",
      "\n",
      "science: Standardized science score.\n",
      "\n",
      "socst: Standardized social studies score.\n"
     ]
    },
    {
     "cell_type": "markdown",
     "metadata": {},
     "source": [
      "Import as a dataframe hsb2.txt"
     ]
    },
    {
     "cell_type": "code",
     "collapsed": false,
     "input": [
      "df= pd.read_table('hsb2.txt')"
     ],
     "language": "python",
     "metadata": {},
     "outputs": [],
     "prompt_number": 2
    },
    {
     "cell_type": "markdown",
     "metadata": {},
     "source": [
      "Explore the data"
     ]
    },
    {
     "cell_type": "code",
     "collapsed": false,
     "input": [
      "df.head()\n",
      "df.describe()"
     ],
     "language": "python",
     "metadata": {},
     "outputs": [
      {
       "html": [
        "<div style=\"max-height:1000px;max-width:1500px;overflow:auto;\">\n",
        "<table border=\"1\" class=\"dataframe\">\n",
        "  <thead>\n",
        "    <tr style=\"text-align: right;\">\n",
        "      <th></th>\n",
        "      <th>id</th>\n",
        "      <th>read</th>\n",
        "      <th>write</th>\n",
        "      <th>math</th>\n",
        "      <th>science</th>\n",
        "      <th>socst</th>\n",
        "    </tr>\n",
        "  </thead>\n",
        "  <tbody>\n",
        "    <tr>\n",
        "      <th>count</th>\n",
        "      <td> 200.000000</td>\n",
        "      <td> 200.000000</td>\n",
        "      <td> 200.000000</td>\n",
        "      <td> 200.000000</td>\n",
        "      <td> 200.000000</td>\n",
        "      <td> 200.000000</td>\n",
        "    </tr>\n",
        "    <tr>\n",
        "      <th>mean</th>\n",
        "      <td> 100.500000</td>\n",
        "      <td>  52.230000</td>\n",
        "      <td>  52.775000</td>\n",
        "      <td>  52.645000</td>\n",
        "      <td>  51.850000</td>\n",
        "      <td>  52.405000</td>\n",
        "    </tr>\n",
        "    <tr>\n",
        "      <th>std</th>\n",
        "      <td>  57.879185</td>\n",
        "      <td>  10.252937</td>\n",
        "      <td>   9.478586</td>\n",
        "      <td>   9.368448</td>\n",
        "      <td>   9.900891</td>\n",
        "      <td>  10.735793</td>\n",
        "    </tr>\n",
        "    <tr>\n",
        "      <th>min</th>\n",
        "      <td>   1.000000</td>\n",
        "      <td>  28.000000</td>\n",
        "      <td>  31.000000</td>\n",
        "      <td>  33.000000</td>\n",
        "      <td>  26.000000</td>\n",
        "      <td>  26.000000</td>\n",
        "    </tr>\n",
        "    <tr>\n",
        "      <th>25%</th>\n",
        "      <td>  50.750000</td>\n",
        "      <td>  44.000000</td>\n",
        "      <td>  45.750000</td>\n",
        "      <td>  45.000000</td>\n",
        "      <td>  44.000000</td>\n",
        "      <td>  46.000000</td>\n",
        "    </tr>\n",
        "    <tr>\n",
        "      <th>50%</th>\n",
        "      <td> 100.500000</td>\n",
        "      <td>  50.000000</td>\n",
        "      <td>  54.000000</td>\n",
        "      <td>  52.000000</td>\n",
        "      <td>  53.000000</td>\n",
        "      <td>  52.000000</td>\n",
        "    </tr>\n",
        "    <tr>\n",
        "      <th>75%</th>\n",
        "      <td> 150.250000</td>\n",
        "      <td>  60.000000</td>\n",
        "      <td>  60.000000</td>\n",
        "      <td>  59.000000</td>\n",
        "      <td>  58.000000</td>\n",
        "      <td>  61.000000</td>\n",
        "    </tr>\n",
        "    <tr>\n",
        "      <th>max</th>\n",
        "      <td> 200.000000</td>\n",
        "      <td>  76.000000</td>\n",
        "      <td>  67.000000</td>\n",
        "      <td>  75.000000</td>\n",
        "      <td>  74.000000</td>\n",
        "      <td>  71.000000</td>\n",
        "    </tr>\n",
        "  </tbody>\n",
        "</table>\n",
        "</div>"
       ],
       "metadata": {},
       "output_type": "pyout",
       "prompt_number": 3,
       "text": [
        "               id        read       write        math     science       socst\n",
        "count  200.000000  200.000000  200.000000  200.000000  200.000000  200.000000\n",
        "mean   100.500000   52.230000   52.775000   52.645000   51.850000   52.405000\n",
        "std     57.879185   10.252937    9.478586    9.368448    9.900891   10.735793\n",
        "min      1.000000   28.000000   31.000000   33.000000   26.000000   26.000000\n",
        "25%     50.750000   44.000000   45.750000   45.000000   44.000000   46.000000\n",
        "50%    100.500000   50.000000   54.000000   52.000000   53.000000   52.000000\n",
        "75%    150.250000   60.000000   60.000000   59.000000   58.000000   61.000000\n",
        "max    200.000000   76.000000   67.000000   75.000000   74.000000   71.000000"
       ]
      }
     ],
     "prompt_number": 3
    },
    {
     "cell_type": "markdown",
     "metadata": {},
     "source": [
      "In order to compare the read and write scores create their respective boxplots. Use .boxplot(column=['varible1','variable2'])"
     ]
    },
    {
     "cell_type": "code",
     "collapsed": false,
     "input": [
      "df.boxplot(column=['read','write'])"
     ],
     "language": "python",
     "metadata": {},
     "outputs": [
      {
       "output_type": "stream",
       "stream": "stderr",
       "text": [
        "/usr/local/lib/python2.7/dist-packages/pandas/tools/plotting.py:2380: FutureWarning: \n",
        "The default value for 'return_type' will change to 'axes' in a future release.\n",
        " To use the future behavior now, set return_type='axes'.\n",
        " To keep the previous behavior and silence this warning, set return_type='dict'.\n",
        "  warnings.warn(msg, FutureWarning)\n"
       ]
      },
      {
       "metadata": {},
       "output_type": "pyout",
       "prompt_number": 4,
       "text": [
        "{'boxes': [<matplotlib.lines.Line2D at 0x7f06d5c791d0>,\n",
        "  <matplotlib.lines.Line2D at 0x7f06d5c9a410>],\n",
        " 'caps': [<matplotlib.lines.Line2D at 0x7f06d5ce8510>,\n",
        "  <matplotlib.lines.Line2D at 0x7f06d5ce8b50>,\n",
        "  <matplotlib.lines.Line2D at 0x7f06d5c90750>,\n",
        "  <matplotlib.lines.Line2D at 0x7f06d5c90d90>],\n",
        " 'fliers': [<matplotlib.lines.Line2D at 0x7f06d5c79e50>,\n",
        "  <matplotlib.lines.Line2D at 0x7f06d5c83850>,\n",
        "  <matplotlib.lines.Line2D at 0x7f06d5ca80d0>,\n",
        "  <matplotlib.lines.Line2D at 0x7f06d5ca8a90>],\n",
        " 'medians': [<matplotlib.lines.Line2D at 0x7f06d5c79810>,\n",
        "  <matplotlib.lines.Line2D at 0x7f06d5c9aa50>],\n",
        " 'whiskers': [<matplotlib.lines.Line2D at 0x7f06d5cd5b90>,\n",
        "  <matplotlib.lines.Line2D at 0x7f06d5cd5e10>,\n",
        "  <matplotlib.lines.Line2D at 0x7f06d5c83e50>,\n",
        "  <matplotlib.lines.Line2D at 0x7f06d5c90110>]}"
       ]
      },
      {
       "metadata": {},
       "output_type": "display_data",
       "png": "[encoded data removed]",
       "text": [
        "<matplotlib.figure.Figure at 0x7f06d5d40910>"
       ]
      }
     ],
     "prompt_number": 4
    },
    {
     "cell_type": "markdown",
     "metadata": {},
     "source": [
      "Add a new varible to the data frame that represents the differencer between the two scores."
     ]
    },
    {
     "cell_type": "code",
     "collapsed": false,
     "input": [
      "df['difference']= df.write - df.read"
     ],
     "language": "python",
     "metadata": {},
     "outputs": [],
     "prompt_number": 5
    },
    {
     "cell_type": "markdown",
     "metadata": {},
     "source": [
      "Produce the histogram of this variable."
     ]
    },
    {
     "cell_type": "code",
     "collapsed": false,
     "input": [
      "df.hist(column='difference')"
     ],
     "language": "python",
     "metadata": {},
     "outputs": [
      {
       "metadata": {},
       "output_type": "pyout",
       "prompt_number": 6,
       "text": [
        "array([[<matplotlib.axes.AxesSubplot object at 0x7f06d5c621d0>]], dtype=object)"
       ]
      },
      {
       "metadata": {},
       "output_type": "display_data",
       "png": "[encoded data removed]",
       "text": [
        "<matplotlib.figure.Figure at 0x7f06d5cd59d0>"
       ]
      }
     ],
     "prompt_number": 6
    },
    {
     "cell_type": "markdown",
     "metadata": {},
     "source": [
      "Create hypotheses appropriate for the following research question:\n",
      "    is there an evident difference in the average scores of students in the reading and writing exam?"
     ]
    },
    {
     "cell_type": "code",
     "collapsed": false,
     "input": [],
     "language": "python",
     "metadata": {},
     "outputs": [],
     "prompt_number": 6
    },
    {
     "cell_type": "markdown",
     "metadata": {},
     "source": [
      "Check the conditions required to complete this test."
     ]
    },
    {
     "cell_type": "code",
     "collapsed": false,
     "input": [],
     "language": "python",
     "metadata": {},
     "outputs": [],
     "prompt_number": 6
    },
    {
     "cell_type": "markdown",
     "metadata": {},
     "source": [
      "Do these data provide convincing evidence of a difference between the average scores on the two exams? Hint: in order to evaluate the p-value use norm.cdf(z)."
     ]
    },
    {
     "cell_type": "code",
     "collapsed": false,
     "input": [],
     "language": "python",
     "metadata": {},
     "outputs": [],
     "prompt_number": 6
    },
    {
     "cell_type": "markdown",
     "metadata": {},
     "source": [
      "#Comparing means + ANOVA"
     ]
    },
    {
     "cell_type": "markdown",
     "metadata": {},
     "source": [
      "Import as a dataframe chichwts.csv. Use pd.read_csv()"
     ]
    },
    {
     "cell_type": "code",
     "collapsed": false,
     "input": [
      "df= pd.read_csv('chickwts.csv')"
     ],
     "language": "python",
     "metadata": {},
     "outputs": [],
     "prompt_number": 7
    },
    {
     "cell_type": "markdown",
     "metadata": {},
     "source": [
      "Explore the data"
     ]
    },
    {
     "cell_type": "code",
     "collapsed": false,
     "input": [
      "df.head()\n"
     ],
     "language": "python",
     "metadata": {},
     "outputs": [
      {
       "html": [
        "<div style=\"max-height:1000px;max-width:1500px;overflow:auto;\">\n",
        "<table border=\"1\" class=\"dataframe\">\n",
        "  <thead>\n",
        "    <tr style=\"text-align: right;\">\n",
        "      <th></th>\n",
        "      <th>weight</th>\n",
        "      <th>feed</th>\n",
        "    </tr>\n",
        "  </thead>\n",
        "  <tbody>\n",
        "    <tr>\n",
        "      <th>0</th>\n",
        "      <td> 179</td>\n",
        "      <td> horsebean</td>\n",
        "    </tr>\n",
        "    <tr>\n",
        "      <th>1</th>\n",
        "      <td> 160</td>\n",
        "      <td> horsebean</td>\n",
        "    </tr>\n",
        "    <tr>\n",
        "      <th>2</th>\n",
        "      <td> 136</td>\n",
        "      <td> horsebean</td>\n",
        "    </tr>\n",
        "    <tr>\n",
        "      <th>3</th>\n",
        "      <td> 227</td>\n",
        "      <td> horsebean</td>\n",
        "    </tr>\n",
        "    <tr>\n",
        "      <th>4</th>\n",
        "      <td> 217</td>\n",
        "      <td> horsebean</td>\n",
        "    </tr>\n",
        "  </tbody>\n",
        "</table>\n",
        "</div>"
       ],
       "metadata": {},
       "output_type": "pyout",
       "prompt_number": 14,
       "text": [
        "   weight       feed\n",
        "0     179  horsebean\n",
        "1     160  horsebean\n",
        "2     136  horsebean\n",
        "3     227  horsebean\n",
        "4     217  horsebean"
       ]
      }
     ],
     "prompt_number": 14
    },
    {
     "cell_type": "markdown",
     "metadata": {},
     "source": [
      "In order to compare the feed create their respective boxplots. Use .boxplot(by='feed')"
     ]
    },
    {
     "cell_type": "code",
     "collapsed": false,
     "input": [
      "df.boxplot(by='feed')"
     ],
     "language": "python",
     "metadata": {},
     "outputs": [
      {
       "metadata": {},
       "output_type": "pyout",
       "prompt_number": 11,
       "text": [
        "<matplotlib.axes.AxesSubplot at 0x7f06d5a0ad90>"
       ]
      },
      {
       "metadata": {},
       "output_type": "display_data",
       "png": "[encoded data removed]",
       "text": [
        "<matplotlib.figure.Figure at 0x7f06d5abcdd0>"
       ]
      }
     ],
     "prompt_number": 11
    },
    {
     "cell_type": "markdown",
     "metadata": {},
     "source": [
      "Do these data provide strong evidence that the average weights of chickens that were fed linseed and horsebean are different? Use a 5% significance level. Remember to check the conditions."
     ]
    },
    {
     "cell_type": "code",
     "collapsed": false,
     "input": [
      "import scipy.stats as stats\n",
      "stats.probplot(df.weight[np.where(df.feed == \"linseed\")[0]],plot=pylab)\n",
      "stats.probplot(df.weight[np.where(df.feed == \"horsebean\")[0]],plot=pylab)\n",
      "mean_lin= np.mean( df.weight[np.where(df.feed == \"linseed\")[0]] )\n",
      "std_lin= np.std( df.weight[np.where(df.feed == \"linseed\")[0]] )\n",
      "mean_horse= np.mean( df.weight[np.where(df.feed == \"horsebean\")[0]] )\n",
      "std_horse= np.std( df.weight[np.where(df.feed == \"horsebean\")[0]] )\n",
      "\n",
      "se_horse= std_horse / np.sqrt( float(len(df.weight[np.where(df.feed == \"horsebean\")[0]]) ) )\n",
      "se_lin= std_lin / np.sqrt( float(len(df.weight[np.where(df.feed == \"linseed\")[0]]) ) )\n",
      "se= np.sqrt( se_horse**2 + se_lin**2)\n",
      "Z= ( mean_horse - mean_lin )/ se\n",
      "print 2.*t.cdf(Z,9),2.*norm.cdf(Z)"
     ],
     "language": "python",
     "metadata": {},
     "outputs": [
      {
       "output_type": "stream",
       "stream": "stdout",
       "text": [
        "0.0114992833243 0.00156287540192\n"
       ]
      },
      {
       "metadata": {},
       "output_type": "display_data",
       "png": "[encoded data removed]",
       "text": [
        "<matplotlib.figure.Figure at 0x7f06e80db9d0>"
       ]
      }
     ],
     "prompt_number": 41
    },
    {
     "cell_type": "markdown",
     "metadata": {},
     "source": [
      "Create hypotheses appropriate for the following research question:\n",
      "    Do these data provide convincing evidence that the average weight of chicks varies across some (or all) groups. "
     ]
    },
    {
     "cell_type": "code",
     "collapsed": false,
     "input": [
      "df.feed.value_counts()"
     ],
     "language": "python",
     "metadata": {},
     "outputs": [
      {
       "metadata": {},
       "output_type": "pyout",
       "prompt_number": 25,
       "text": [
        "soybean      14\n",
        "casein       12\n",
        "linseed      12\n",
        "sunflower    12\n",
        "meatmeal     11\n",
        "horsebean    10\n",
        "dtype: int64"
       ]
      }
     ],
     "prompt_number": 25
    },
    {
     "cell_type": "markdown",
     "metadata": {},
     "source": [
      "Check if the conditions for an ANOVA test are satisfied."
     ]
    },
    {
     "cell_type": "code",
     "collapsed": false,
     "input": [
      "stats.probplot(df.weight[np.where(df.feed == \"linseed\")[0]],plot=pylab)\n",
      "stats.probplot(df.weight[np.where(df.feed == \"horsebean\")[0]],plot=pylab)"
     ],
     "language": "python",
     "metadata": {},
     "outputs": [
      {
       "metadata": {},
       "output_type": "pyout",
       "prompt_number": 43,
       "text": [
        "((array([-1.49876728, -0.98494667, -0.64703803, -0.37109819, -0.12121409,\n",
        "          0.12121409,  0.37109819,  0.64703803,  0.98494667,  1.49876728]),\n",
        "  array([108, 124, 136, 140, 143, 160, 168, 179, 217, 227])),\n",
        " (40.954235612480559, 160.19999999999999, 0.97272543128159539))"
       ]
      },
      {
       "metadata": {},
       "output_type": "display_data",
       "png": "[encoded data removed]",
       "text": [
        "<matplotlib.figure.Figure at 0x7f06d57f23d0>"
       ]
      }
     ],
     "prompt_number": 43
    },
    {
     "cell_type": "markdown",
     "metadata": {},
     "source": [
      "Run an ANOVA test, by applying the f_oneway(variable_1,...,variable_k). Use a 5% significance level."
     ]
    },
    {
     "cell_type": "code",
     "collapsed": false,
     "input": [
      "f,p =stats.f_oneway(df.weight[np.where(df.feed == \"linseed\")[0]],df.weight[np.where(df.feed == \"horsebean\")[0]])\n",
      "print f,p"
     ],
     "language": "python",
     "metadata": {},
     "outputs": [
      {
       "output_type": "stream",
       "stream": "stdout",
       "text": [
        "8.60863011547 0.00820511949882\n"
       ]
      }
     ],
     "prompt_number": 51
    },
    {
     "cell_type": "code",
     "collapsed": false,
     "input": [],
     "language": "python",
     "metadata": {},
     "outputs": [],
     "prompt_number": 51
    },
    {
     "cell_type": "code",
     "collapsed": false,
     "input": [],
     "language": "python",
     "metadata": {},
     "outputs": []
    }
   ],
   "metadata": {}
  }
 ]
}