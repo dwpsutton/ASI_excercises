{
 "metadata": {
  "name": "",
  "signature": "sha256:b12423f1b2fd98d099774111cb4988722e260ae2720f1e3ea6ad6c22eb685acd"
 },
 "nbformat": 3,
 "nbformat_minor": 0,
 "worksheets": [
  {
   "cells": [
    {
     "cell_type": "code",
     "collapsed": false,
     "input": [
      "import numpy as np\n",
      "from numpy import nan as NA\n",
      "import pandas as pd\n",
      "import matplotlib as mpl\n",
      "import matplotlib.pyplot as plt\n",
      "from pylab import *\n",
      "import random\n",
      "from scipy.stats import norm\n",
      "\n",
      "#mpl.style.available\n",
      "#mpl.style.use('ggplot') \n",
      "%matplotlib inline  "
     ],
     "language": "python",
     "metadata": {},
     "outputs": [],
     "prompt_number": 1
    },
    {
     "cell_type": "markdown",
     "metadata": {},
     "source": [
      "Import as a dataframe run10.txt"
     ]
    },
    {
     "cell_type": "code",
     "collapsed": false,
     "input": [
      "df= pd.read_table('run10.txt')"
     ],
     "language": "python",
     "metadata": {},
     "outputs": [],
     "prompt_number": 2
    },
    {
     "cell_type": "markdown",
     "metadata": {},
     "source": [
      "Explore the time variable"
     ]
    },
    {
     "cell_type": "code",
     "collapsed": false,
     "input": [
      "df.time.describe()"
     ],
     "language": "python",
     "metadata": {},
     "outputs": [
      {
       "metadata": {},
       "output_type": "pyout",
       "prompt_number": 13,
       "text": [
        "count    16924.000000\n",
        "mean        94.519192\n",
        "std         15.927157\n",
        "min         45.250000\n",
        "25%         83.727500\n",
        "50%         94.030000\n",
        "75%        104.455000\n",
        "max        170.970000\n",
        "dtype: float64"
       ]
      }
     ],
     "prompt_number": 13
    },
    {
     "cell_type": "markdown",
     "metadata": {},
     "source": [
      "   Calculate the mean and standard deviation of the time of the runners. Name them population_mean and population_sd respectively. Hint: Use .mean() and .std()"
     ]
    },
    {
     "cell_type": "code",
     "collapsed": false,
     "input": [
      "population_mean= df.time.mean()\n",
      "population_sd= df.time.std()"
     ],
     "language": "python",
     "metadata": {},
     "outputs": [],
     "prompt_number": 14
    },
    {
     "cell_type": "markdown",
     "metadata": {},
     "source": [
      "Produce a histogram and a fitted density of the time variable. *Beware* of the y-axis range."
     ]
    },
    {
     "cell_type": "code",
     "collapsed": false,
     "input": [
      "df.time.plot(kind='kde',color='red')\n",
      "df.time.hist(normed='True')"
     ],
     "language": "python",
     "metadata": {},
     "outputs": [
      {
       "metadata": {},
       "output_type": "pyout",
       "prompt_number": 21,
       "text": [
        "<matplotlib.axes.AxesSubplot at 0x7fa3ef6b1210>"
       ]
      },
      {
       "metadata": {},
       "output_type": "display_data",
       "png": "[encoded data removed]",
       "text": [
        "<matplotlib.figure.Figure at 0x7fa3ef6de850>"
       ]
      }
     ],
     "prompt_number": 21
    },
    {
     "cell_type": "markdown",
     "metadata": {},
     "source": [
      "Get a sample the time of 100 individuals from the data. Use random.sample(data,size of sample)"
     ]
    },
    {
     "cell_type": "code",
     "collapsed": false,
     "input": [
      "sample= pd.DataFrame(random.sample( df.time, 100),columns=['time'])"
     ],
     "language": "python",
     "metadata": {},
     "outputs": [],
     "prompt_number": 38
    },
    {
     "cell_type": "markdown",
     "metadata": {},
     "source": [
      "Produce a histogram and a fitted density of the time variable for the sample."
     ]
    },
    {
     "cell_type": "code",
     "collapsed": false,
     "input": [
      "sample.time.plot(kind='kde',color='red')\n",
      "sample.time.hist(normed='True')"
     ],
     "language": "python",
     "metadata": {},
     "outputs": [
      {
       "metadata": {},
       "output_type": "pyout",
       "prompt_number": 33,
       "text": [
        "<matplotlib.axes.AxesSubplot at 0x7fa3ed027350>"
       ]
      },
      {
       "metadata": {},
       "output_type": "display_data",
       "png": "[encoded data removed]",
       "text": [
        "<matplotlib.figure.Figure at 0x7fa3ef6de350>"
       ]
      }
     ],
     "prompt_number": 33
    },
    {
     "cell_type": "markdown",
     "metadata": {},
     "source": [
      "Calculate the mean and standard deviation of the sample"
     ]
    },
    {
     "cell_type": "code",
     "collapsed": false,
     "input": [
      "sample_mean= sample.time.mean()\n",
      "sample_sd= sample.time.std()"
     ],
     "language": "python",
     "metadata": {},
     "outputs": [],
     "prompt_number": 34
    },
    {
     "cell_type": "markdown",
     "metadata": {},
     "source": [
      "Evaluate the lower bound of a 95% interval. Name it lower"
     ]
    },
    {
     "cell_type": "code",
     "collapsed": false,
     "input": [
      "lower= sample_mean - 2*sample_sd/np.sqrt(100.)"
     ],
     "language": "python",
     "metadata": {},
     "outputs": [],
     "prompt_number": 72
    },
    {
     "cell_type": "markdown",
     "metadata": {},
     "source": [
      "Evaluate the upper bound of a 95% interval. Name it upper"
     ]
    },
    {
     "cell_type": "code",
     "collapsed": false,
     "input": [
      "upper= sample_mean + 2*sample_sd/np.sqrt(100.)"
     ],
     "language": "python",
     "metadata": {},
     "outputs": [],
     "prompt_number": 73
    },
    {
     "cell_type": "markdown",
     "metadata": {},
     "source": [
      "Plot the confidence interval and the mean of the sample."
     ]
    },
    {
     "cell_type": "code",
     "collapsed": false,
     "input": [
      "# To plot a line between points (x1,y1) and (x2,y2) in Python use plt.plot((x1,x2),(y1,y2))\n",
      "# To plot a point (x,y) use plt.plot(x,y,'.')\n",
      "sample.time.plot(kind='kde',color='red')\n",
      "sample.time.hist(normed='True')\n",
      "plt.plot([lower,lower],[0.,0.04],'r-')\n",
      "plt.plot([upper,upper],[0.,0.04],'r-')\n",
      "plt.plot([sample_mean,sample_mean],[0.,0.04],'g-')"
     ],
     "language": "python",
     "metadata": {},
     "outputs": [
      {
       "metadata": {},
       "output_type": "pyout",
       "prompt_number": 74,
       "text": [
        "[<matplotlib.lines.Line2D at 0x7fa3ec614c90>]"
       ]
      },
      {
       "metadata": {},
       "output_type": "display_data",
       "png": "[encoded data removed]",
       "text": [
        "<matplotlib.figure.Figure at 0x7fa3ecdb3e90>"
       ]
      }
     ],
     "prompt_number": 74
    },
    {
     "cell_type": "markdown",
     "metadata": {},
     "source": [
      "Assign an empty list to the variable average, standard_error, lower, upper."
     ]
    },
    {
     "cell_type": "code",
     "collapsed": false,
     "input": [
      "averages= []\n",
      "standard_errors= []\n",
      "lowers= []\n",
      "uppers= []"
     ],
     "language": "python",
     "metadata": {},
     "outputs": [],
     "prompt_number": 99
    },
    {
     "cell_type": "markdown",
     "metadata": {},
     "source": [
      "Use a for loop to produce 4  samples of size 100,1000,10000,15000. For every sample calculate the average, standard_error,lower, upper and append the lists."
     ]
    },
    {
     "cell_type": "code",
     "collapsed": false,
     "input": [
      "# Creat a for loop for i in  [100,1000,10000,15000] sample sizes\n",
      "sample_sizes= [100,1000,10000,15000]\n",
      "samples= []\n",
      "for ss in sample_sizes:\n",
      "    samples.append( pd.DataFrame(random.sample( df.time, ss),columns=['time']) )\n",
      "for i in range(len(samples)):\n",
      "    averages.append( samples[i].time.mean() )\n",
      "    standard_errors.append( samples[i].time.std() / np.sqrt(sample_sizes[i]) )\n",
      "    lowers.append( averages[-1]+2.*standard_errors[-1] ) \n",
      "    uppers.append( averages[-1]-2.*standard_errors[-1] )\n",
      "\n",
      "# Sample i observations from the time variable\n",
      "print averages\n",
      "\n",
      "print standard_errors\n",
      "# Evaluate the average of the sample and append it to the average list.\n",
      "\n",
      "# Evaluate the SE of the sample and append it to the sample_SE list.\n",
      "\n",
      "# Evaluate the lower bound of a 95% confidence interval and append it to the lower list.\n",
      "\n",
      "# Evaluate the upper bound of a 95% confidence interval and append it to the upper list.\n"
     ],
     "language": "python",
     "metadata": {},
     "outputs": [
      {
       "output_type": "stream",
       "stream": "stdout",
       "text": [
        "[96.1357, 94.366990000000001, 94.59464100000001, 94.507908666666665]\n",
        "[1.5746605743281443, 0.50939795456598891, 0.15999665501526414, 0.13021023002061671]\n"
       ]
      }
     ],
     "prompt_number": 100
    },
    {
     "cell_type": "markdown",
     "metadata": {},
     "source": [
      "Produce a plot with the 4 different confidence intervals, their respective averages and a vertical line representing the population mean."
     ]
    },
    {
     "cell_type": "code",
     "collapsed": false,
     "input": [
      "# Use plt.figure() to initialize a plot. Play around with the figure size\n",
      "\n",
      "plt.figure(1)\n",
      "plt.plot(averages,np.arange(4),'b.')\n",
      "plt.ylim([-0.5,3.5])\n",
      "for i in range(len(samples)):\n",
      "    plt.plot([lowers[i],uppers[i]],[i,i],'r-')\n",
      "plt.plot([population_mean,population_mean],[0,3],'g--')\n",
      "print np.array(uppers)-np.array(lowers)\n",
      "\n",
      "# Create a for loop for the 4 different samples\n",
      "\n",
      "# Plot the confidence interval of the ith sample\n",
      "\n",
      "# Plot a point for the average of the ith sample\n",
      "\n",
      "\n",
      "# Exit the for loop and plot a vertical line of the population mean\n",
      "\n",
      "\n",
      "plt.title(\"95% confidence intervals as the sample size increases\") "
     ],
     "language": "python",
     "metadata": {},
     "outputs": [
      {
       "output_type": "stream",
       "stream": "stdout",
       "text": [
        "[-6.2986423  -2.03759182 -0.63998662 -0.52084092]\n"
       ]
      },
      {
       "metadata": {},
       "output_type": "pyout",
       "prompt_number": 101,
       "text": [
        "<matplotlib.text.Text at 0x7fa3ec380cd0>"
       ]
      },
      {
       "metadata": {},
       "output_type": "display_data",
       "png": "[encoded data removed]",
       "text": [
        "<matplotlib.figure.Figure at 0x7fa3ec6bedd0>"
       ]
      }
     ],
     "prompt_number": 101
    },
    {
     "cell_type": "markdown",
     "metadata": {},
     "source": [
      "Comment on the behaviour of the confidence intervals as the sample size increases. Is this expected?"
     ]
    },
    {
     "cell_type": "code",
     "collapsed": false,
     "input": [],
     "language": "python",
     "metadata": {},
     "outputs": []
    },
    {
     "cell_type": "markdown",
     "metadata": {},
     "source": [
      "Assign an empty list to variable average,standard_error,lower, upper"
     ]
    },
    {
     "cell_type": "code",
     "collapsed": false,
     "input": [
      "averages= []\n",
      "standard_errors= []\n",
      "lowers= []\n",
      "uppers= []"
     ],
     "language": "python",
     "metadata": {},
     "outputs": [],
     "prompt_number": 114
    },
    {
     "cell_type": "markdown",
     "metadata": {},
     "source": [
      "Use a for loop to produce 50  samples of size 100. For every sample append the lists average, standard_error,lower, upper with the respective values."
     ]
    },
    {
     "cell_type": "code",
     "collapsed": false,
     "input": [
      "sample_size= 100\n",
      "samples= []\n",
      "for i in range(50):\n",
      "    samples.append( pd.DataFrame(random.sample( df.time, sample_size),columns=['time']) )\n",
      "    averages.append( samples[i].time.mean() )\n",
      "    standard_errors.append( samples[i].time.std() / np.sqrt(sample_size) )\n",
      "    lowers.append( averages[i]+2.*standard_errors[i] ) \n",
      "    uppers.append( averages[i]-2.*standard_errors[i] )\n",
      "\n",
      "# Creat a for loop for 50 iterations\n",
      "\n",
      "# Sample 100 observations from the time variable\n",
      "\n",
      "# Evaluate the average of the sample and append it to the average list.\n",
      "\n",
      "# Evaluate the SE of the sample and append it to the sample_SE list.\n",
      "\n",
      "# Evaluate the lower bound of a 95% confidence interval and append it to the lower list.\n",
      "\n",
      "# Evaluate the upper bound of a 95% confidence interval and append it to the upper list.\n",
      "\n"
     ],
     "language": "python",
     "metadata": {},
     "outputs": [],
     "prompt_number": 115
    },
    {
     "cell_type": "markdown",
     "metadata": {},
     "source": [
      "Produce a histogram of the average."
     ]
    },
    {
     "cell_type": "code",
     "collapsed": false,
     "input": [
      "plt.hist(averages)"
     ],
     "language": "python",
     "metadata": {},
     "outputs": [
      {
       "metadata": {},
       "output_type": "pyout",
       "prompt_number": 116,
       "text": [
        "(array([  3.,   5.,   6.,   8.,  10.,   7.,   4.,   3.,   2.,   2.]),\n",
        " array([ 91.5961,  92.2324,  92.8687,  93.505 ,  94.1413,  94.7776,\n",
        "         95.4139,  96.0502,  96.6865,  97.3228,  97.9591]),\n",
        " <a list of 10 Patch objects>)"
       ]
      },
      {
       "metadata": {},
       "output_type": "display_data",
       "png": "[encoded data removed]",
       "text": [
        "<matplotlib.figure.Figure at 0x7fa3ec31f190>"
       ]
      }
     ],
     "prompt_number": 116
    },
    {
     "cell_type": "markdown",
     "metadata": {},
     "source": [
      "Produce a plot with the 50 different confidence intervals, their respective averages and a vertical line representing the population mean."
     ]
    },
    {
     "cell_type": "code",
     "collapsed": false,
     "input": [
      "# Use plt.figure() to initialize a plot. Play around with the figure size\n",
      "\n",
      "plt.figure(1)\n",
      "plt.plot(averages,np.arange(50),'b.')\n",
      "plt.ylim([-0.5,50.5])\n",
      "for i in range(len(samples)):\n",
      "    plt.plot([lowers[i],uppers[i]],[i,i],'r-')\n",
      "plt.plot([population_mean,population_mean],[0,49],'g--')\n",
      "\n",
      "# Create a for loop of 50 iterations\n",
      "\n",
      "# Plot the confidence interval of the ith sample\n",
      "\n",
      "# Plot a point for the average of the ith sample\n",
      "\n",
      "\n",
      "# Exit the for loop and plot a vertical line of the population mean\n",
      "\n",
      "plt.title(\"95% confidence intervals\") \n",
      "\n",
      "    "
     ],
     "language": "python",
     "metadata": {},
     "outputs": [
      {
       "metadata": {},
       "output_type": "pyout",
       "prompt_number": 117,
       "text": [
        "<matplotlib.text.Text at 0x7fa3e7d02b10>"
       ]
      },
      {
       "metadata": {},
       "output_type": "display_data",
       "png": "[encoded data removed]",
       "text": [
        "<matplotlib.figure.Figure at 0x7fa3e7e58650>"
       ]
      }
     ],
     "prompt_number": 117
    },
    {
     "cell_type": "markdown",
     "metadata": {},
     "source": [
      "Comment the on the graph that is produced."
     ]
    },
    {
     "cell_type": "code",
     "collapsed": false,
     "input": [
      "#Nice, only 2/50 are >=2 sigma discrepant from population mean."
     ],
     "language": "python",
     "metadata": {},
     "outputs": []
    }
   ],
   "metadata": {}
  }
 ]
}