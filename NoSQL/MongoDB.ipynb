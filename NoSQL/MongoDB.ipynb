{
 "metadata": {
  "name": "",
  "signature": "sha256:840869a1301c505b6aecc6ff59772f4d2536fedd05c1416c25ae3bdb7c0b3d70"
 },
 "nbformat": 3,
 "nbformat_minor": 0,
 "worksheets": [
  {
   "cells": [
    {
     "cell_type": "markdown",
     "metadata": {},
     "source": [
      "#MongoDB\n",
      "\n",
      "[MongoDB](http://www.mongodb.org/) is very versatile database software, used widely for a number of applications. It's especially good for operating on large amounts of data and data that needs to be used at scale (i.e., by many users simultaneously).\n",
      "\n",
      "The purpose of this tutorial is to show you the basics of working with MongoDB. We'll cover how to insert documents into a MongoDB database and how to get lists of documents back from the database that match a particular set of criteria. This is barely scratching the surface of MongoDB's potential! But hopefully by the end of this session you'll have enough literacy in how MongoDB works to explore on your own its more advanced features and applications.\n",
      "\n",
      "##Why use a database?\n",
      "\n",
      "So what exactly is a database, and why might we need one? For our purpose, we can define a \"database\" as a piece of software whose main purpose is to make it possible for us to store data somewhere, then later retrieve it, usually in a way that pays attention to the structure of the data itself. There are several reasons we might want to put this data into a database instead:\n",
      "\n",
      "* Persistence. We download data, process it into a form that we like, draw conclusions from it and then... it disappears forever, once we close the notebook. To get that data again, we have to *download* and *process* it again, from scratch. This is fine for small amounts of data, but with larger amounts it can be very time-consuming. Having separate database software allows us to store our data in a way that persists from one notebook session to the next. Very convenient.\n",
      "\n",
      "* Sharing. Another problem with downloading and processing data on demand is that it's difficult for us to share the result of our data processing with other people. The data exists in our IPython notebook and nowhere else---there's no easy way to let someone else access it. A database like MongoDB, on the other hand, can be used by many people simultaneously. It's also easy to create a \"dump\" of a MongoDB database's contents and send it to a colleague, who can then reconstruct the data on their own server with a minimum amount of hassle.\n",
      "\n",
      "* Performance. Many databases, like MongoDB, boast features (like indexing, aggregation, and map-reduce) that can make accessing and processing data very fast, faster than we could do in Python on our own.\n",
      "\n",
      "##Client/server\n",
      "\n",
      "MongoDB is \"client/server\" software, which means that the software itself runs on a server somewhere, and various clients on other computers can access it. The clients each talk to the server over the network, with a particular protocol unique to MongoDB. (Most database software works like this, but there are some exceptions, like SQLite, which work with files stored locally on your machine.)\n",
      "\n",
      "We're going to write our \"client\" software in IPython Notebook, using a library called `pymongo`. The `pymongo` library gives us an easy way to write Python code that opens a network connection to the server, sends it commands using the MongoDB protocol, and interprets the results that come back.\n",
      "\n",
      "The `pymongo` library can be installed using pip like so:\n",
      "\n",
      "    pip install pymongo\n",
      "\n",
      "As a quick note---in this class, the \"server\" software (MongoDB itself) and the \"client\" software (the Python code running in your notebook) both live on the same machine. When you see the word `localhost` below, that's what it means---`localhost` is a special word in Internet talk that means \"connect to the same server that I'm running on.\" Other than that word, though, everything you'll learn here applies to connecting to MongoDB on non-localhost servers.\n",
      "\n",
      "##How MongoDB is structured\n",
      "\n",
      "MongoDB is a \"document-based\" database. MongoDB \"documents\" are essentially Python dictionaries: a lists of key/value pairs that describe some particular thing. Documents are stored in a structure called a \"collection,\" which is essentially like a list of dictionaries in Python. Most of the work we do in MongoDB will be adding documents to a collection, and then asking that collection to return documents that match particular criteria.\n",
      "\n",
      "Collections themselves are grouped into \"databases,\" and each MongoDB server can support multiple databases.\n",
      "\n",
      "##Connect to MongoDB and insert a document\n",
      "\n",
      "First, we'll import `pymongo` and call its `Connection` function, which returns a new object that represents our network connection to the server. We'll pass the string `localhost` as the first argument, which tells Python to connect to the MongoDB server running on your own machine."
     ]
    },
    {
     "cell_type": "code",
     "collapsed": false,
     "input": [
      "import pymongo\n",
      "\n",
      "conn = pymongo.Connection(\"localhost\")\n",
      "print type(conn)"
     ],
     "language": "python",
     "metadata": {},
     "outputs": [
      {
       "output_type": "stream",
       "stream": "stdout",
       "text": [
        "<class 'pymongo.connection.Connection'>\n"
       ]
      }
     ],
     "prompt_number": 3
    },
    {
     "cell_type": "markdown",
     "metadata": {},
     "source": [
      "One thing you can do with a `Connection` object is call its `.database_names()` method, which returns a list of all databases on the server."
     ]
    },
    {
     "cell_type": "code",
     "collapsed": false,
     "input": [
      "conn.database_names()"
     ],
     "language": "python",
     "metadata": {},
     "outputs": [
      {
       "metadata": {},
       "output_type": "pyout",
       "prompt_number": 48,
       "text": [
        "[u'asi', u'local']"
       ]
      }
     ],
     "prompt_number": 48
    },
    {
     "cell_type": "markdown",
     "metadata": {},
     "source": [
      "You should see only one database right now---`local`. The `local` database is for MongoDB's internal use, so we won't mess with it. Instead, we'll use the `Connection` object to get another object that represents a new database, like so:"
     ]
    },
    {
     "cell_type": "code",
     "collapsed": false,
     "input": [
      "db = conn['asi']\n",
      "print db"
     ],
     "language": "python",
     "metadata": {},
     "outputs": [
      {
       "output_type": "stream",
       "stream": "stdout",
       "text": [
        "Database(Connection('localhost', 27017), u'asi')\n"
       ]
      }
     ],
     "prompt_number": 6
    },
    {
     "cell_type": "markdown",
     "metadata": {},
     "source": [
      "Note: We haven't done anything at this point to explicitly create the `lede_program` database! MongoDB automatically creates databases when you first use them.\n",
      "\n",
      "This `Database` object supports several interesting methods, among them `.collection_names()`, which shows all of the collections in this database:"
     ]
    },
    {
     "cell_type": "code",
     "collapsed": false,
     "input": [
      "db.collection_names()"
     ],
     "language": "python",
     "metadata": {},
     "outputs": [
      {
       "metadata": {},
       "output_type": "pyout",
       "prompt_number": 49,
       "text": [
        "[u'system.indexes', u'kittens', u'legislators']"
       ]
      }
     ],
     "prompt_number": 49
    },
    {
     "cell_type": "markdown",
     "metadata": {},
     "source": [
      "It's an empty list right now (except maybe for a `system.indexes` collection, which is for internal MongoDB use and which you can ignore for now), because we haven't made any collections yet! Using the `Database` object as a dictionary, we can get an object representing a collection:"
     ]
    },
    {
     "cell_type": "code",
     "collapsed": false,
     "input": [
      "collection = db['kittens']\n",
      "print collection"
     ],
     "language": "python",
     "metadata": {},
     "outputs": [
      {
       "output_type": "stream",
       "stream": "stdout",
       "text": [
        "Collection(Database(Connection('localhost', 27017), u'asi'), u'kittens')\n"
       ]
      }
     ],
     "prompt_number": 9
    },
    {
     "cell_type": "markdown",
     "metadata": {},
     "source": [
      "Now we're in business. Let's insert our first document into the collection, using the collection's `.insert()` method. In between the parentheses of the `.insert()` method, we need to supply an expression that evaluates to a Python dictionary. PyMongo will convert this dictionary into a MongoDB document, and then add that document to the collection. Calling the `.insert()` method evaluates to a MongoDB `ObjectId` object, which contains a randomly generated number that uniquely identifies the record that we just added."
     ]
    },
    {
     "cell_type": "code",
     "collapsed": false,
     "input": [
      "collection.insert({\"name\": \"Fluffy\", \"favorite_color\": \"chartreuse\", \"lbs\": 9.5})"
     ],
     "language": "python",
     "metadata": {},
     "outputs": [
      {
       "metadata": {},
       "output_type": "pyout",
       "prompt_number": 25,
       "text": [
        "ObjectId('54e899375c0a214508d46f20')"
       ]
      }
     ],
     "prompt_number": 25
    },
    {
     "cell_type": "markdown",
     "metadata": {},
     "source": [
      "Let's insert a few more records!"
     ]
    },
    {
     "cell_type": "code",
     "collapsed": false,
     "input": [
      "collection.insert({\"name\": \"Monsieur Whiskeurs\", \"favorite_color\": \"cerulean\", \"lbs\": 10.8})\n",
      "collection.insert({\"name\": \"Grandpa Pants\", \"favorite_color\": \"mauve\", \"lbs\": 14.1})\n",
      "collection.insert({\"name\": \"Susan B. Meownthony\", \"favorite_color\": \"cerulean\", \"lbs\": 9.0})"
     ],
     "language": "python",
     "metadata": {},
     "outputs": [
      {
       "metadata": {},
       "output_type": "pyout",
       "prompt_number": 26,
       "text": [
        "ObjectId('54e899385c0a214508d46f23')"
       ]
      }
     ],
     "prompt_number": 26
    },
    {
     "cell_type": "markdown",
     "metadata": {},
     "source": [
      "##Finding a document\n",
      "\n",
      "Of course, inserting documents on its own is not very useful. We'd like to be able to retrieve them later. To do so, we can use the `.find_one()` method of a collection object. Between the parentheses of the `.find_one()` call, we give a Python dictionary that tells MongoDB which documents to return. The `.find_one()` evaluates to the document that has an exact match for whichever key/value pairs are specified in the dictionary. To demonstrate:"
     ]
    },
    {
     "cell_type": "code",
     "collapsed": false,
     "input": [
      "collection.find_one({\"name\": \"Monsieur Whiskeurs\"})"
     ],
     "language": "python",
     "metadata": {},
     "outputs": [
      {
       "metadata": {},
       "output_type": "pyout",
       "prompt_number": 13,
       "text": [
        "{u'_id': ObjectId('54e894485c0a214508d46f1d'),\n",
        " u'favorite_color': u'cerulean',\n",
        " u'lbs': 10.8,\n",
        " u'name': u'Monsieur Whiskeurs'}"
       ]
      }
     ],
     "prompt_number": 13
    },
    {
     "cell_type": "markdown",
     "metadata": {},
     "source": [
      "If more than one document had the value `Monsieur Whiskeurs` for the key `name`, MongoDB would have returned only the first matching document. If no documents match, this happens:"
     ]
    },
    {
     "cell_type": "code",
     "collapsed": false,
     "input": [
      "val = collection.find_one({\"name\": \"Big Shoes\"})\n",
      "print val"
     ],
     "language": "python",
     "metadata": {},
     "outputs": [
      {
       "output_type": "stream",
       "stream": "stdout",
       "text": [
        "None\n"
       ]
      }
     ],
     "prompt_number": 14
    },
    {
     "cell_type": "markdown",
     "metadata": {},
     "source": [
      "... the method evaluates to `None`.\n",
      "\n",
      "You may have noticed the key `_id` in the document above. We didn't specify that key when we created the document, so where did it come from? It turns out that unless we specify the `_id` key manually, MongoDB will add it automatically and give it a randomly generated and unique `ObjectId` object as a value.\n",
      "\n",
      "Let's do that `.find_one()` call again and see what else we can do with it."
     ]
    },
    {
     "cell_type": "code",
     "collapsed": false,
     "input": [
      "doc = collection.find_one({\"name\": \"Monsieur Whiskeurs\"})\n",
      "print type(doc)\n",
      "print doc['favorite_color']"
     ],
     "language": "python",
     "metadata": {},
     "outputs": [
      {
       "output_type": "stream",
       "stream": "stdout",
       "text": [
        "<type 'dict'>\n",
        "cerulean\n"
       ]
      }
     ],
     "prompt_number": 15
    },
    {
     "cell_type": "markdown",
     "metadata": {},
     "source": [
      "As you can see, the value returned from `.find_one()` is just a Python dictionary. We can use it in any of the ways we usually use Python dictionaries---by getting a value for one of its keys, for example."
     ]
    },
    {
     "cell_type": "markdown",
     "metadata": {},
     "source": [
      "Use the `.find_one()` method to print out the `favorite_color` value for our kitten named `Grandpa Pants`."
     ]
    },
    {
     "cell_type": "code",
     "collapsed": false,
     "input": [],
     "language": "python",
     "metadata": {},
     "outputs": []
    },
    {
     "cell_type": "markdown",
     "metadata": {},
     "source": [
      "##Finding more than one document\n",
      "\n",
      "The collection object has a method `.find()` that allows you to access every document in the collection. It doesn't return a list, but a weird thing called a `Cursor`. To get data from a cursor, you either have to use it in a `for` loop like this:"
     ]
    },
    {
     "cell_type": "code",
     "collapsed": false,
     "input": [
      "for doc in collection.find():\n",
      "    print doc"
     ],
     "language": "python",
     "metadata": {},
     "outputs": [
      {
       "output_type": "stream",
       "stream": "stdout",
       "text": [
        "{u'favorite_color': u'chartreuse', u'_id': ObjectId('54e894435c0a214508d46f1c'), u'name': u'Fluffy', u'lbs': 9.5}\n",
        "{u'favorite_color': u'cerulean', u'_id': ObjectId('54e894485c0a214508d46f1d'), u'name': u'Monsieur Whiskeurs', u'lbs': 10.8}\n",
        "{u'favorite_color': u'mauve', u'_id': ObjectId('54e894485c0a214508d46f1e'), u'name': u'Grandpa Pants', u'lbs': 14.1}\n",
        "{u'favorite_color': u'cerulean', u'_id': ObjectId('54e894485c0a214508d46f1f'), u'name': u'Susan B. Meownthony', u'lbs': 9.0}\n"
       ]
      }
     ],
     "prompt_number": 16
    },
    {
     "cell_type": "markdown",
     "metadata": {},
     "source": [
      "... or explicitly convert it to a list, with the `list()` function:"
     ]
    },
    {
     "cell_type": "code",
     "collapsed": false,
     "input": [
      "documents = list(collection.find())\n",
      "documents"
     ],
     "language": "python",
     "metadata": {},
     "outputs": [
      {
       "metadata": {},
       "output_type": "pyout",
       "prompt_number": 17,
       "text": [
        "[{u'_id': ObjectId('54e894435c0a214508d46f1c'),\n",
        "  u'favorite_color': u'chartreuse',\n",
        "  u'lbs': 9.5,\n",
        "  u'name': u'Fluffy'},\n",
        " {u'_id': ObjectId('54e894485c0a214508d46f1d'),\n",
        "  u'favorite_color': u'cerulean',\n",
        "  u'lbs': 10.8,\n",
        "  u'name': u'Monsieur Whiskeurs'},\n",
        " {u'_id': ObjectId('54e894485c0a214508d46f1e'),\n",
        "  u'favorite_color': u'mauve',\n",
        "  u'lbs': 14.1,\n",
        "  u'name': u'Grandpa Pants'},\n",
        " {u'_id': ObjectId('54e894485c0a214508d46f1f'),\n",
        "  u'favorite_color': u'cerulean',\n",
        "  u'lbs': 9.0,\n",
        "  u'name': u'Susan B. Meownthony'}]"
       ]
      }
     ],
     "prompt_number": 17
    },
    {
     "cell_type": "markdown",
     "metadata": {},
     "source": [
      "We can also pass a dictionary to `.find()` to tell MongoDB to only return a subset of documents, namely, only those documents that match the key/value pairs in the dictionary we put in the parentheses. For example, to fetch only those kittens whose `favorite_color` is `cerulean`:"
     ]
    },
    {
     "cell_type": "code",
     "collapsed": false,
     "input": [
      "cerulean_lovers = list(collection.find({'favorite_color': 'cerulean'}))\n",
      "cerulean_lovers"
     ],
     "language": "python",
     "metadata": {},
     "outputs": [
      {
       "metadata": {},
       "output_type": "pyout",
       "prompt_number": 18,
       "text": [
        "[{u'_id': ObjectId('54e894485c0a214508d46f1d'),\n",
        "  u'favorite_color': u'cerulean',\n",
        "  u'lbs': 10.8,\n",
        "  u'name': u'Monsieur Whiskeurs'},\n",
        " {u'_id': ObjectId('54e894485c0a214508d46f1f'),\n",
        "  u'favorite_color': u'cerulean',\n",
        "  u'lbs': 9.0,\n",
        "  u'name': u'Susan B. Meownthony'}]"
       ]
      }
     ],
     "prompt_number": 18
    },
    {
     "cell_type": "markdown",
     "metadata": {},
     "source": [
      "Write a list comprehension that evaluates to a list of the names of kittens whose weight is over 10 lbs.\n"
     ]
    },
    {
     "cell_type": "code",
     "collapsed": false,
     "input": [],
     "language": "python",
     "metadata": {},
     "outputs": []
    },
    {
     "cell_type": "markdown",
     "metadata": {},
     "source": [
      "##Simple aggregations\n",
      "\n",
      "You can ask MongoDB how many documents are in a collection with the collection's `.count()` method:"
     ]
    },
    {
     "cell_type": "code",
     "collapsed": false,
     "input": [
      "collection.count()"
     ],
     "language": "python",
     "metadata": {},
     "outputs": [
      {
       "metadata": {},
       "output_type": "pyout",
       "prompt_number": 19,
       "text": [
        "4"
       ]
      }
     ],
     "prompt_number": 19
    },
    {
     "cell_type": "markdown",
     "metadata": {},
     "source": [
      "It's also easy to get a list of distinct values there are for a particular field, using the `distinct` method:"
     ]
    },
    {
     "cell_type": "code",
     "collapsed": false,
     "input": [
      "collection.distinct(\"favorite_color\")"
     ],
     "language": "python",
     "metadata": {},
     "outputs": [
      {
       "metadata": {},
       "output_type": "pyout",
       "prompt_number": 20,
       "text": [
        "[u'chartreuse', u'cerulean', u'mauve']"
       ]
      }
     ],
     "prompt_number": 20
    },
    {
     "cell_type": "markdown",
     "metadata": {},
     "source": [
      "##Removing documents\n",
      "\n",
      "You can remove a single document from a collection with the `.remove()` method, passing in a dictionary that describes which documents you want to remove. For example, to `.remove()` documents where the `name` key has the value `Fluffy`:"
     ]
    },
    {
     "cell_type": "code",
     "collapsed": false,
     "input": [
      "collection.remove({'name': 'Fluffy'})\n",
      "list(collection.find())"
     ],
     "language": "python",
     "metadata": {},
     "outputs": [
      {
       "metadata": {},
       "output_type": "pyout",
       "prompt_number": 21,
       "text": [
        "[{u'_id': ObjectId('54e894485c0a214508d46f1d'),\n",
        "  u'favorite_color': u'cerulean',\n",
        "  u'lbs': 10.8,\n",
        "  u'name': u'Monsieur Whiskeurs'},\n",
        " {u'_id': ObjectId('54e894485c0a214508d46f1e'),\n",
        "  u'favorite_color': u'mauve',\n",
        "  u'lbs': 14.1,\n",
        "  u'name': u'Grandpa Pants'},\n",
        " {u'_id': ObjectId('54e894485c0a214508d46f1f'),\n",
        "  u'favorite_color': u'cerulean',\n",
        "  u'lbs': 9.0,\n",
        "  u'name': u'Susan B. Meownthony'}]"
       ]
      }
     ],
     "prompt_number": 21
    },
    {
     "cell_type": "markdown",
     "metadata": {},
     "source": [
      "You can see that `Fluffy` has now gone missing. You can also easily remove *all* documents from a collection, using the `.remove()` method without any parameters. *WARNING*: Don't run this cell unless you want to remove everything you've inserted so far!"
     ]
    },
    {
     "cell_type": "code",
     "collapsed": false,
     "input": [
      "collection.remove()\n",
      "list(collection.find())"
     ],
     "language": "python",
     "metadata": {},
     "outputs": [
      {
       "metadata": {},
       "output_type": "pyout",
       "prompt_number": 24,
       "text": [
        "[]"
       ]
      }
     ],
     "prompt_number": 24
    },
    {
     "cell_type": "markdown",
     "metadata": {},
     "source": [
      "##More sophisticated queries\n",
      "\n",
      "We can be a bit more specific about which documents we want from the collection using MongoDB *query selectors*. Query selectors take the form of dictionaries that we pass to the `.find()` method. Keys in this dictionary should be the field that you want to match against, and the value for such a key should be *another* dictionary, that has as its key a MongoDB query operator (listed below), and as its value the number to go with the operator. Here's an example, to make it more clear, searching our collection of kittens for documents where the `lbs` field is greater than `10`:"
     ]
    },
    {
     "cell_type": "code",
     "collapsed": false,
     "input": [
      "list(collection.find({'lbs': {'$gt': 10}}))"
     ],
     "language": "python",
     "metadata": {},
     "outputs": [
      {
       "metadata": {},
       "output_type": "pyout",
       "prompt_number": 27,
       "text": [
        "[{u'_id': ObjectId('54e899385c0a214508d46f21'),\n",
        "  u'favorite_color': u'cerulean',\n",
        "  u'lbs': 10.8,\n",
        "  u'name': u'Monsieur Whiskeurs'},\n",
        " {u'_id': ObjectId('54e899385c0a214508d46f22'),\n",
        "  u'favorite_color': u'mauve',\n",
        "  u'lbs': 14.1,\n",
        "  u'name': u'Grandpa Pants'}]"
       ]
      }
     ],
     "prompt_number": 27
    },
    {
     "cell_type": "markdown",
     "metadata": {},
     "source": [
      "Other operators that are supported ([full list here](http://docs.mongodb.org/manual/reference/operator/query/#query-selectors)):\n",
      "\n",
      "* `$gt` greater than\n",
      "* `$gte` greater than or equal\n",
      "* `$lt` less than\n",
      "* `$lte` less than or equal\n",
      "* `$ne` *not* equal to\n",
      "\n",
      "You can combine more than one operator for a particular field, in which case MongoDB will find documents that match *all* criteria:"
     ]
    },
    {
     "cell_type": "code",
     "collapsed": false,
     "input": [
      "list(collection.find({'lbs': {'$gt': 9, '$lt': 10.8}}))"
     ],
     "language": "python",
     "metadata": {},
     "outputs": [
      {
       "metadata": {},
       "output_type": "pyout",
       "prompt_number": 28,
       "text": [
        "[{u'_id': ObjectId('54e899375c0a214508d46f20'),\n",
        "  u'favorite_color': u'chartreuse',\n",
        "  u'lbs': 9.5,\n",
        "  u'name': u'Fluffy'}]"
       ]
      }
     ],
     "prompt_number": 28
    },
    {
     "cell_type": "markdown",
     "metadata": {},
     "source": [
      "You can also include conditions for more than one field in the dictionary, in which case MongoDB will find documents that match those criteria for each respective field:"
     ]
    },
    {
     "cell_type": "code",
     "collapsed": false,
     "input": [
      "list(collection.find({'favorite_color': 'cerulean'}))"
     ],
     "language": "python",
     "metadata": {},
     "outputs": [
      {
       "metadata": {},
       "output_type": "pyout",
       "prompt_number": 29,
       "text": [
        "[{u'_id': ObjectId('54e899385c0a214508d46f21'),\n",
        "  u'favorite_color': u'cerulean',\n",
        "  u'lbs': 10.8,\n",
        "  u'name': u'Monsieur Whiskeurs'},\n",
        " {u'_id': ObjectId('54e899385c0a214508d46f23'),\n",
        "  u'favorite_color': u'cerulean',\n",
        "  u'lbs': 9.0,\n",
        "  u'name': u'Susan B. Meownthony'}]"
       ]
      }
     ],
     "prompt_number": 29
    },
    {
     "cell_type": "code",
     "collapsed": false,
     "input": [
      "list(collection.find({'favorite_color': 'cerulean', 'name': {'$ne': 'Monsieur Whiskeurs'}}))"
     ],
     "language": "python",
     "metadata": {},
     "outputs": [
      {
       "metadata": {},
       "output_type": "pyout",
       "prompt_number": 30,
       "text": [
        "[{u'_id': ObjectId('54e899385c0a214508d46f23'),\n",
        "  u'favorite_color': u'cerulean',\n",
        "  u'lbs': 9.0,\n",
        "  u'name': u'Susan B. Meownthony'}]"
       ]
      }
     ],
     "prompt_number": 30
    },
    {
     "cell_type": "markdown",
     "metadata": {},
     "source": [
      "###Regular expression searches\n",
      "\n",
      "Another valuable search criterion that MongoDB supports is `$regex`, which will return documents that match a regular expression for a particular field. For example, to find all kittens whose name ends with the letter `y`:"
     ]
    },
    {
     "cell_type": "code",
     "collapsed": false,
     "input": [
      "list(collection.find({'name': {'$regex': 'y$'}}))"
     ],
     "language": "python",
     "metadata": {},
     "outputs": [
      {
       "metadata": {},
       "output_type": "pyout",
       "prompt_number": 31,
       "text": [
        "[{u'_id': ObjectId('54e899375c0a214508d46f20'),\n",
        "  u'favorite_color': u'chartreuse',\n",
        "  u'lbs': 9.5,\n",
        "  u'name': u'Fluffy'},\n",
        " {u'_id': ObjectId('54e899385c0a214508d46f23'),\n",
        "  u'favorite_color': u'cerulean',\n",
        "  u'lbs': 9.0,\n",
        "  u'name': u'Susan B. Meownthony'}]"
       ]
      }
     ],
     "prompt_number": 31
    },
    {
     "cell_type": "markdown",
     "metadata": {},
     "source": [
      "Write a call to `.find()` that returns all kittens whose favorite color begins with the letter `c`."
     ]
    },
    {
     "cell_type": "code",
     "collapsed": false,
     "input": [],
     "language": "python",
     "metadata": {},
     "outputs": []
    },
    {
     "cell_type": "markdown",
     "metadata": {},
     "source": [
      "##Sorting and limiting\n",
      "\n",
      "Results from `.find()` aren't returned in a particular order. You may find it helpful for this reason to sort the results. You can specify a sort order for results from the `.find()` method by tacking on a `.sort()` call to the end. It looks like this:"
     ]
    },
    {
     "cell_type": "code",
     "collapsed": false,
     "input": [
      "list(collection.find().sort('lbs'))"
     ],
     "language": "python",
     "metadata": {},
     "outputs": [
      {
       "metadata": {},
       "output_type": "pyout",
       "prompt_number": 32,
       "text": [
        "[{u'_id': ObjectId('54e899385c0a214508d46f23'),\n",
        "  u'favorite_color': u'cerulean',\n",
        "  u'lbs': 9.0,\n",
        "  u'name': u'Susan B. Meownthony'},\n",
        " {u'_id': ObjectId('54e899375c0a214508d46f20'),\n",
        "  u'favorite_color': u'chartreuse',\n",
        "  u'lbs': 9.5,\n",
        "  u'name': u'Fluffy'},\n",
        " {u'_id': ObjectId('54e899385c0a214508d46f21'),\n",
        "  u'favorite_color': u'cerulean',\n",
        "  u'lbs': 10.8,\n",
        "  u'name': u'Monsieur Whiskeurs'},\n",
        " {u'_id': ObjectId('54e899385c0a214508d46f22'),\n",
        "  u'favorite_color': u'mauve',\n",
        "  u'lbs': 14.1,\n",
        "  u'name': u'Grandpa Pants'}]"
       ]
      }
     ],
     "prompt_number": 32
    },
    {
     "cell_type": "markdown",
     "metadata": {},
     "source": [
      "The parameter you pass to `.sort()` specifies which field the documents should be sorted by. Specifying descending order is a bit more tricky:"
     ]
    },
    {
     "cell_type": "code",
     "collapsed": false,
     "input": [
      "list(collection.find().sort('lbs', -1))"
     ],
     "language": "python",
     "metadata": {},
     "outputs": [
      {
       "metadata": {},
       "output_type": "pyout",
       "prompt_number": 33,
       "text": [
        "[{u'_id': ObjectId('54e899385c0a214508d46f22'),\n",
        "  u'favorite_color': u'mauve',\n",
        "  u'lbs': 14.1,\n",
        "  u'name': u'Grandpa Pants'},\n",
        " {u'_id': ObjectId('54e899385c0a214508d46f21'),\n",
        "  u'favorite_color': u'cerulean',\n",
        "  u'lbs': 10.8,\n",
        "  u'name': u'Monsieur Whiskeurs'},\n",
        " {u'_id': ObjectId('54e899375c0a214508d46f20'),\n",
        "  u'favorite_color': u'chartreuse',\n",
        "  u'lbs': 9.5,\n",
        "  u'name': u'Fluffy'},\n",
        " {u'_id': ObjectId('54e899385c0a214508d46f23'),\n",
        "  u'favorite_color': u'cerulean',\n",
        "  u'lbs': 9.0,\n",
        "  u'name': u'Susan B. Meownthony'}]"
       ]
      }
     ],
     "prompt_number": 33
    },
    {
     "cell_type": "markdown",
     "metadata": {},
     "source": [
      "(The `-1` means 'in reverse order'.) The `.sort()` method works even if you've specified query selectors in the call to `.find()`:"
     ]
    },
    {
     "cell_type": "code",
     "collapsed": false,
     "input": [
      "list(collection.find({'lbs': {'$gt': 9.0}}).sort('name'))"
     ],
     "language": "python",
     "metadata": {},
     "outputs": [
      {
       "metadata": {},
       "output_type": "pyout",
       "prompt_number": 34,
       "text": [
        "[{u'_id': ObjectId('54e899375c0a214508d46f20'),\n",
        "  u'favorite_color': u'chartreuse',\n",
        "  u'lbs': 9.5,\n",
        "  u'name': u'Fluffy'},\n",
        " {u'_id': ObjectId('54e899385c0a214508d46f22'),\n",
        "  u'favorite_color': u'mauve',\n",
        "  u'lbs': 14.1,\n",
        "  u'name': u'Grandpa Pants'},\n",
        " {u'_id': ObjectId('54e899385c0a214508d46f21'),\n",
        "  u'favorite_color': u'cerulean',\n",
        "  u'lbs': 10.8,\n",
        "  u'name': u'Monsieur Whiskeurs'}]"
       ]
      }
     ],
     "prompt_number": 34
    },
    {
     "cell_type": "markdown",
     "metadata": {},
     "source": [
      "You can also limit the number of results returned from `.find()` using the `.limit()` method, which, like `.sort()`, gets tacked on to the end of `.find()`. To return only two kittens:"
     ]
    },
    {
     "cell_type": "code",
     "collapsed": false,
     "input": [
      "list(collection.find().limit(2))"
     ],
     "language": "python",
     "metadata": {},
     "outputs": [
      {
       "metadata": {},
       "output_type": "pyout",
       "prompt_number": 35,
       "text": [
        "[{u'_id': ObjectId('54e899375c0a214508d46f20'),\n",
        "  u'favorite_color': u'chartreuse',\n",
        "  u'lbs': 9.5,\n",
        "  u'name': u'Fluffy'},\n",
        " {u'_id': ObjectId('54e899385c0a214508d46f21'),\n",
        "  u'favorite_color': u'cerulean',\n",
        "  u'lbs': 10.8,\n",
        "  u'name': u'Monsieur Whiskeurs'}]"
       ]
      }
     ],
     "prompt_number": 35
    },
    {
     "cell_type": "markdown",
     "metadata": {},
     "source": [
      "Search for all kittens weighing less than 10 pounds, limit to one result:"
     ]
    },
    {
     "cell_type": "code",
     "collapsed": false,
     "input": [],
     "language": "python",
     "metadata": {},
     "outputs": [],
     "prompt_number": 35
    },
    {
     "cell_type": "markdown",
     "metadata": {},
     "source": [
      "You can put a `.limit()` after a `.sort()` to get only the first few results from a sorted list of documents. So, for example, to get only the heaviest cat:"
     ]
    },
    {
     "cell_type": "code",
     "collapsed": false,
     "input": [
      "list(collection.find().sort(\"lbs\", -1).limit(1))"
     ],
     "language": "python",
     "metadata": {},
     "outputs": [
      {
       "metadata": {},
       "output_type": "pyout",
       "prompt_number": 36,
       "text": [
        "[{u'_id': ObjectId('54e899385c0a214508d46f22'),\n",
        "  u'favorite_color': u'mauve',\n",
        "  u'lbs': 14.1,\n",
        "  u'name': u'Grandpa Pants'}]"
       ]
      }
     ],
     "prompt_number": 36
    },
    {
     "cell_type": "markdown",
     "metadata": {},
     "source": [
      "##Only get certain fields\n",
      "\n",
      "If we want our result to only include certain key/value pairs from the document, we can provide a second argument to the `find` method. This argument should be a dictionary whose keys are the fields we want included, and whose values are all `1`. For example, to find all kittens whose favorite color is `cerulean`, but only return their names, we could do this:"
     ]
    },
    {
     "cell_type": "code",
     "collapsed": false,
     "input": [
      "list(collection.find({\"favorite_color\": \"cerulean\"}, {\"name\": 1}))"
     ],
     "language": "python",
     "metadata": {},
     "outputs": [
      {
       "metadata": {},
       "output_type": "pyout",
       "prompt_number": 37,
       "text": [
        "[{u'_id': ObjectId('54e899385c0a214508d46f21'),\n",
        "  u'name': u'Monsieur Whiskeurs'},\n",
        " {u'_id': ObjectId('54e899385c0a214508d46f23'),\n",
        "  u'name': u'Susan B. Meownthony'}]"
       ]
      }
     ],
     "prompt_number": 37
    },
    {
     "cell_type": "markdown",
     "metadata": {},
     "source": [
      "The `_id` field is always included by default. If we want to get rid of it, we can include the `_id` key in our list of fields, giving it a `0` (instead of a `1`):"
     ]
    },
    {
     "cell_type": "code",
     "collapsed": false,
     "input": [
      "list(collection.find({\"favorite_color\": \"cerulean\"}, {\"name\": 1, \"_id\": 0}))"
     ],
     "language": "python",
     "metadata": {},
     "outputs": [
      {
       "metadata": {},
       "output_type": "pyout",
       "prompt_number": 38,
       "text": [
        "[{u'name': u'Monsieur Whiskeurs'}, {u'name': u'Susan B. Meownthony'}]"
       ]
      }
     ],
     "prompt_number": 38
    },
    {
     "cell_type": "markdown",
     "metadata": {},
     "source": [
      "##Let's get real\n",
      "\n",
      "I want to take you through a real-world example of consuming data from a source, putting it into MongoDB, then querying MongoDB to find interesting stuff in that data. Specifically, we're going to fetch a big CSV of historic data about congress members from the \"Bulk Data\" section of [govtrack.us](https://www.govtrack.us/developers/data). [Here's the file](https://www.govtrack.us/data/congress-legislators/legislators-historic.csv), which contains a row for every member of Congress in the history of the United States (who isn't currently a sitting member)."
     ]
    },
    {
     "cell_type": "markdown",
     "metadata": {},
     "source": [
      "Let's play with the `csv` library's `DictReader` class to see what the data looks like."
     ]
    },
    {
     "cell_type": "code",
     "collapsed": false,
     "input": [
      "import csv\n",
      "rows = csv.DictReader(open(\"legislators-historic.csv\"))\n",
      "all_rows = list(rows)\n",
      "all_rows[0]"
     ],
     "language": "python",
     "metadata": {},
     "outputs": [
      {
       "metadata": {},
       "output_type": "pyout",
       "prompt_number": 41,
       "text": [
        "{'address': '',\n",
        " 'ballotpedia_id': '',\n",
        " 'bioguide_id': 'B000226',\n",
        " 'birthday': '1745-04-02',\n",
        " 'contact_form': '',\n",
        " 'cspan_id': '',\n",
        " 'district': '',\n",
        " 'facebook': '',\n",
        " 'facebook_id': '',\n",
        " 'first_name': 'Richard',\n",
        " 'gender': 'M',\n",
        " 'govtrack_id': '401222',\n",
        " 'icpsr_id': '507',\n",
        " 'last_name': 'Bassett',\n",
        " 'lis_id': '',\n",
        " 'opensecrets_id': '',\n",
        " 'party': 'Anti-Administration',\n",
        " 'phone': '',\n",
        " 'rss_url': '',\n",
        " 'state': 'DE',\n",
        " 'thomas_id': '',\n",
        " 'twitter': '',\n",
        " 'type': 'sen',\n",
        " 'url': '',\n",
        " 'votesmart_id': '',\n",
        " 'washington_post_id': '',\n",
        " 'wikipedia_id': '',\n",
        " 'youtube': '',\n",
        " 'youtube_id': ''}"
       ]
      }
     ],
     "prompt_number": 41
    },
    {
     "cell_type": "markdown",
     "metadata": {},
     "source": [
      "What we seem to have here is a dictionary that describes a member of congress. This happens to be one [Richard Bassett](http://en.wikipedia.org/wiki/Richard_Bassett_(politician)), born in 1745. So that's pretty cool! I don't really know what most of these fields mean, but we'll take some guesses at them later.\n",
      "\n",
      "So how about putting all those rows into MongoDB? Here's how it would go. It's pretty simple! I'm going to create a separate collection in our database for these legislators, called `legislators`."
     ]
    },
    {
     "cell_type": "code",
     "collapsed": false,
     "input": [
      "legislators_coll = db['legislators']"
     ],
     "language": "python",
     "metadata": {},
     "outputs": [],
     "prompt_number": 42
    },
    {
     "cell_type": "markdown",
     "metadata": {},
     "source": [
      "Now, I'm going to loop through the rows of the table and just... insert each dictionary from `DictReader` straight into MongoDB. Easy!"
     ]
    },
    {
     "cell_type": "code",
     "collapsed": false,
     "input": [
      "for row in all_rows:\n",
      "    legislators_coll.insert(row)"
     ],
     "language": "python",
     "metadata": {},
     "outputs": [],
     "prompt_number": 43
    },
    {
     "cell_type": "markdown",
     "metadata": {},
     "source": [
      "At this point, the number of documents in the database should match the number of rows in the CSV file. Let's make sure."
     ]
    },
    {
     "cell_type": "code",
     "collapsed": false,
     "input": [
      "len(all_rows) == legislators_coll.count()"
     ],
     "language": "python",
     "metadata": {},
     "outputs": [
      {
       "metadata": {},
       "output_type": "pyout",
       "prompt_number": 44,
       "text": [
        "True"
       ]
      }
     ],
     "prompt_number": 44
    },
    {
     "cell_type": "markdown",
     "metadata": {},
     "source": [
      "And how many exactly is that?"
     ]
    },
    {
     "cell_type": "code",
     "collapsed": false,
     "input": [
      "legislators_coll.count()"
     ],
     "language": "python",
     "metadata": {},
     "outputs": [
      {
       "metadata": {},
       "output_type": "pyout",
       "prompt_number": 45,
       "text": [
        "11807"
       ]
      }
     ],
     "prompt_number": 45
    },
    {
     "cell_type": "markdown",
     "metadata": {},
     "source": [
      "Eleven thousand legislators. Not exactly \"big data,\" I admit, but hopefully you can still see the benefit of having this data in one place without having to re-download and parse the data each time we want to use it.\n",
      "\n",
      "###Meet the press\n",
      "\n",
      "Let's do some queries on our data now! For example, let's get the count of all legislators who are women."
     ]
    },
    {
     "cell_type": "code",
     "collapsed": false,
     "input": [],
     "language": "python",
     "metadata": {},
     "outputs": [
      {
       "metadata": {},
       "output_type": "pyout",
       "prompt_number": 46,
       "text": [
        "73"
       ]
      }
     ],
     "prompt_number": 46
    },
    {
     "cell_type": "markdown",
     "metadata": {},
     "source": [
      "How about a count of legislators who are women, whose party is not `Democrat`?"
     ]
    },
    {
     "cell_type": "code",
     "collapsed": false,
     "input": [],
     "language": "python",
     "metadata": {},
     "outputs": [
      {
       "metadata": {},
       "output_type": "pyout",
       "prompt_number": 47,
       "text": [
        "31"
       ]
      }
     ],
     "prompt_number": 47
    },
    {
     "cell_type": "markdown",
     "metadata": {},
     "source": [
      "Let's make a list of these women, including their names, states, and birthdays:"
     ]
    },
    {
     "cell_type": "code",
     "collapsed": false,
     "input": [],
     "language": "python",
     "metadata": {},
     "outputs": [],
     "prompt_number": 49
    },
    {
     "cell_type": "markdown",
     "metadata": {},
     "source": [
      "How about the youngest five Republican legislators, as determined by their birthday?"
     ]
    },
    {
     "cell_type": "code",
     "collapsed": false,
     "input": [],
     "language": "python",
     "metadata": {},
     "outputs": [],
     "prompt_number": 49
    },
    {
     "cell_type": "markdown",
     "metadata": {},
     "source": [
      "How about a list of all distinct parties (witness the varieties of American democracy)?"
     ]
    },
    {
     "cell_type": "code",
     "collapsed": false,
     "input": [],
     "language": "python",
     "metadata": {},
     "outputs": [],
     "prompt_number": 49
    },
    {
     "cell_type": "markdown",
     "metadata": {},
     "source": [
      "Investigate [MongoDB's `$nin` operator](http://docs.mongodb.org/manual/reference/operator/query/nin/) to write a MongoDB query that returns a list of the names, states, and parties of all legislators whose party is neither Republican nor Democrat."
     ]
    },
    {
     "cell_type": "code",
     "collapsed": false,
     "input": [],
     "language": "python",
     "metadata": {},
     "outputs": [],
     "prompt_number": 59
    },
    {
     "cell_type": "markdown",
     "metadata": {},
     "source": [
      "##Where to go next\n",
      "\n",
      "Great work---you've learned the basics. Where to go next?\n",
      "\n",
      "* The [PyMongo tutorial](http://api.mongodb.org/python/current/tutorial.html) covers a lot of the same material that we've covered here, but it's always nice to have a different perspective on this.\n",
      "* [Here's another tutorial](http://blog.pythonisito.com/2012/01/moving-along-with-pymongo.html) that looks pretty good.\n",
      "* If you want to be able to modify your data after you've imported it, you may want to learn how to [update documents](http://docs.mongodb.org/manual/tutorial/modify-documents/) once they're already in the database.\n",
      "* Once you're working with a sufficiently large amount of data, you'll be able to speed up your queries significantly using [indexes](http://docs.mongodb.org/manual/core/indexes-introduction/).\n",
      "* We didn't cover some of MongoDB's most powerful features in this tutorial, including its [aggregation](http://docs.mongodb.org/manual/core/aggregation-introduction/) and [map-reduce](http://docs.mongodb.org/manual/core/map-reduce/) features. Both are very handy, but often require a bit of JavaScript (!). [Here's a good overview](http://blog.safaribooksonline.com/2013/06/21/aggregation-in-mongodb/) of MongoDB's aggregation framework.\n",
      "\n",
      "Have fun!"
     ]
    }
   ],
   "metadata": {}
  }
 ]
}