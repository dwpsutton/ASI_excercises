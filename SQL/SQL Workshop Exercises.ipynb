{
 "metadata": {
  "name": "",
  "signature": "sha256:d758f3d1ea3982361fa62aee4a3416ada19bdc76eb18cc5f1c31d0b62f62dd35"
 },
 "nbformat": 3,
 "nbformat_minor": 0,
 "worksheets": [
  {
   "cells": [
    {
     "cell_type": "code",
     "collapsed": false,
     "input": [
      "import pandas as pd\n",
      "import sqlite3"
     ],
     "language": "python",
     "metadata": {},
     "outputs": [],
     "prompt_number": 1
    },
    {
     "cell_type": "heading",
     "level": 1,
     "metadata": {},
     "source": [
      "Movie Ratings"
     ]
    },
    {
     "cell_type": "markdown",
     "metadata": {},
     "source": [
      "You've started a new movie-rating website, and you've been collecting data on reviewers' ratings of various movies. There's not much data yet, but you can still try out some interesting queries. Here's the schema: \n",
      "\n",
      "Movie ( mID, title, year, director ) \n",
      "English: There is a movie with ID number mID, a title, a release year, and a director. \n",
      "\n",
      "Reviewer ( rID, name ) \n",
      "English: The reviewer with ID number rID has a certain name. \n",
      "\n",
      "Rating ( rID, mID, stars, ratingDate ) \n",
      "English: The reviewer rID gave the movie mID a number of stars rating (1-5) on a certain ratingDate. "
     ]
    },
    {
     "cell_type": "code",
     "collapsed": false,
     "input": [
      "con = sqlite3.connect(\"movie-ratings.sqlite\")\n",
      "df = pd.read_sql(\"SELECT * from Rating limit 3\", con)\n",
      "df"
     ],
     "language": "python",
     "metadata": {},
     "outputs": [
      {
       "html": [
        "<div style=\"max-height:1000px;max-width:1500px;overflow:auto;\">\n",
        "<table border=\"1\" class=\"dataframe\">\n",
        "  <thead>\n",
        "    <tr style=\"text-align: right;\">\n",
        "      <th></th>\n",
        "      <th>rID</th>\n",
        "      <th>mID</th>\n",
        "      <th>stars</th>\n",
        "      <th>ratingDate</th>\n",
        "    </tr>\n",
        "  </thead>\n",
        "  <tbody>\n",
        "    <tr>\n",
        "      <th>0</th>\n",
        "      <td> 201</td>\n",
        "      <td> 101</td>\n",
        "      <td> 2</td>\n",
        "      <td> 2011-01-22</td>\n",
        "    </tr>\n",
        "    <tr>\n",
        "      <th>1</th>\n",
        "      <td> 201</td>\n",
        "      <td> 101</td>\n",
        "      <td> 4</td>\n",
        "      <td> 2011-01-27</td>\n",
        "    </tr>\n",
        "    <tr>\n",
        "      <th>2</th>\n",
        "      <td> 202</td>\n",
        "      <td> 106</td>\n",
        "      <td> 4</td>\n",
        "      <td>       None</td>\n",
        "    </tr>\n",
        "  </tbody>\n",
        "</table>\n",
        "</div>"
       ],
       "metadata": {},
       "output_type": "pyout",
       "prompt_number": 2,
       "text": [
        "   rID  mID  stars  ratingDate\n",
        "0  201  101      2  2011-01-22\n",
        "1  201  101      4  2011-01-27\n",
        "2  202  106      4        None"
       ]
      }
     ],
     "prompt_number": 2
    },
    {
     "cell_type": "markdown",
     "metadata": {},
     "source": [
      "Find the titles of all movies directed by Steven Spielberg. \n"
     ]
    },
    {
     "cell_type": "code",
     "collapsed": false,
     "input": [
      "dg= pd.read_sql(\"SELECT title FROM Movie WHERE director like '%Spielberg%'\",con)\n",
      "dg"
     ],
     "language": "python",
     "metadata": {},
     "outputs": [
      {
       "html": [
        "<div style=\"max-height:1000px;max-width:1500px;overflow:auto;\">\n",
        "<table border=\"1\" class=\"dataframe\">\n",
        "  <thead>\n",
        "    <tr style=\"text-align: right;\">\n",
        "      <th></th>\n",
        "      <th>title</th>\n",
        "    </tr>\n",
        "  </thead>\n",
        "  <tbody>\n",
        "    <tr>\n",
        "      <th>0</th>\n",
        "      <td>                    E.T.</td>\n",
        "    </tr>\n",
        "    <tr>\n",
        "      <th>1</th>\n",
        "      <td> Raiders of the Lost Ark</td>\n",
        "    </tr>\n",
        "  </tbody>\n",
        "</table>\n",
        "</div>"
       ],
       "metadata": {},
       "output_type": "pyout",
       "prompt_number": 5,
       "text": [
        "                     title\n",
        "0                     E.T.\n",
        "1  Raiders of the Lost Ark"
       ]
      }
     ],
     "prompt_number": 5
    },
    {
     "cell_type": "markdown",
     "metadata": {},
     "source": [
      "Find all years that have a movie that received a rating of 4 or 5, and sort them in increasing order. "
     ]
    },
    {
     "cell_type": "code",
     "collapsed": false,
     "input": [
      "dh= pd.read_sql(\"SELECT distinct year from Movie, Rating WHERE stars >= 4 AND Movie.mID = Rating.mID ORDER by year\",con)\n",
      "dh"
     ],
     "language": "python",
     "metadata": {},
     "outputs": [
      {
       "html": [
        "<div style=\"max-height:1000px;max-width:1500px;overflow:auto;\">\n",
        "<table border=\"1\" class=\"dataframe\">\n",
        "  <thead>\n",
        "    <tr style=\"text-align: right;\">\n",
        "      <th></th>\n",
        "      <th>year</th>\n",
        "    </tr>\n",
        "  </thead>\n",
        "  <tbody>\n",
        "    <tr>\n",
        "      <th>0</th>\n",
        "      <td> 1937</td>\n",
        "    </tr>\n",
        "    <tr>\n",
        "      <th>1</th>\n",
        "      <td> 1939</td>\n",
        "    </tr>\n",
        "    <tr>\n",
        "      <th>2</th>\n",
        "      <td> 1981</td>\n",
        "    </tr>\n",
        "    <tr>\n",
        "      <th>3</th>\n",
        "      <td> 2009</td>\n",
        "    </tr>\n",
        "  </tbody>\n",
        "</table>\n",
        "</div>"
       ],
       "metadata": {},
       "output_type": "pyout",
       "prompt_number": 17,
       "text": [
        "   year\n",
        "0  1937\n",
        "1  1939\n",
        "2  1981\n",
        "3  2009"
       ]
      }
     ],
     "prompt_number": 17
    },
    {
     "cell_type": "markdown",
     "metadata": {},
     "source": [
      "Find the titles of all movies that have no ratings. \n"
     ]
    },
    {
     "cell_type": "code",
     "collapsed": false,
     "input": [
      "dj= pd.read_sql(\"SELECT title FROM Movie WHERE mID in (SELECT mID FROM Movie EXCEPT SELECT mID FROM Rating)\",con)\n",
      "dj"
     ],
     "language": "python",
     "metadata": {},
     "outputs": [
      {
       "html": [
        "<div style=\"max-height:1000px;max-width:1500px;overflow:auto;\">\n",
        "<table border=\"1\" class=\"dataframe\">\n",
        "  <thead>\n",
        "    <tr style=\"text-align: right;\">\n",
        "      <th></th>\n",
        "      <th>title</th>\n",
        "    </tr>\n",
        "  </thead>\n",
        "  <tbody>\n",
        "    <tr>\n",
        "      <th>0</th>\n",
        "      <td> Star Wars</td>\n",
        "    </tr>\n",
        "    <tr>\n",
        "      <th>1</th>\n",
        "      <td>   Titanic</td>\n",
        "    </tr>\n",
        "  </tbody>\n",
        "</table>\n",
        "</div>"
       ],
       "metadata": {},
       "output_type": "pyout",
       "prompt_number": 16,
       "text": [
        "       title\n",
        "0  Star Wars\n",
        "1    Titanic"
       ]
      }
     ],
     "prompt_number": 16
    },
    {
     "cell_type": "markdown",
     "metadata": {},
     "source": [
      "Some reviewers didn't provide a date with their rating. Find the names of all reviewers who have ratings with a NULL value for the date. \n"
     ]
    },
    {
     "cell_type": "code",
     "collapsed": false,
     "input": [
      "dk= pd.read_sql(\"SELECT Name From Reviewer WHERE rID in (SELECT rID FROM Rating WHERE ratingDate is null)\",con)\n",
      "dk"
     ],
     "language": "python",
     "metadata": {},
     "outputs": [
      {
       "html": [
        "<div style=\"max-height:1000px;max-width:1500px;overflow:auto;\">\n",
        "<table border=\"1\" class=\"dataframe\">\n",
        "  <thead>\n",
        "    <tr style=\"text-align: right;\">\n",
        "      <th></th>\n",
        "      <th>name</th>\n",
        "    </tr>\n",
        "  </thead>\n",
        "  <tbody>\n",
        "    <tr>\n",
        "      <th>0</th>\n",
        "      <td>  Daniel Lewis</td>\n",
        "    </tr>\n",
        "    <tr>\n",
        "      <th>1</th>\n",
        "      <td> Chris Jackson</td>\n",
        "    </tr>\n",
        "  </tbody>\n",
        "</table>\n",
        "</div>"
       ],
       "metadata": {},
       "output_type": "pyout",
       "prompt_number": 22,
       "text": [
        "            name\n",
        "0   Daniel Lewis\n",
        "1  Chris Jackson"
       ]
      }
     ],
     "prompt_number": 22
    },
    {
     "cell_type": "markdown",
     "metadata": {},
     "source": [
      "Write a query to return the ratings data in a more readable format: reviewer name, movie title, stars, and ratingDate. Also, sort the data, first by reviewer name, then by movie title, and lastly by number of stars. \n",
      " "
     ]
    },
    {
     "cell_type": "code",
     "collapsed": false,
     "input": [
      "dl= pd.read_sql(\"SELECT name, title, stars, ratingDate FROM Movie join (Rating join Reviewer on Rating.rID = Reviewer.rID) on Rating.mID = Movie.mID ORDER by name desc\",con)\n",
      "dl"
     ],
     "language": "python",
     "metadata": {},
     "outputs": [
      {
       "html": [
        "<div style=\"max-height:1000px;max-width:1500px;overflow:auto;\">\n",
        "<table border=\"1\" class=\"dataframe\">\n",
        "  <thead>\n",
        "    <tr style=\"text-align: right;\">\n",
        "      <th></th>\n",
        "      <th>name</th>\n",
        "      <th>title</th>\n",
        "      <th>stars</th>\n",
        "      <th>ratingDate</th>\n",
        "    </tr>\n",
        "  </thead>\n",
        "  <tbody>\n",
        "    <tr>\n",
        "      <th>0 </th>\n",
        "      <td>   Sarah Martinez</td>\n",
        "      <td>      Gone with the Wind</td>\n",
        "      <td> 2</td>\n",
        "      <td> 2011-01-22</td>\n",
        "    </tr>\n",
        "    <tr>\n",
        "      <th>1 </th>\n",
        "      <td>   Sarah Martinez</td>\n",
        "      <td>      Gone with the Wind</td>\n",
        "      <td> 4</td>\n",
        "      <td> 2011-01-27</td>\n",
        "    </tr>\n",
        "    <tr>\n",
        "      <th>2 </th>\n",
        "      <td>    Mike Anderson</td>\n",
        "      <td>      Gone with the Wind</td>\n",
        "      <td> 3</td>\n",
        "      <td> 2011-01-09</td>\n",
        "    </tr>\n",
        "    <tr>\n",
        "      <th>3 </th>\n",
        "      <td>    James Cameron</td>\n",
        "      <td>                  Avatar</td>\n",
        "      <td> 5</td>\n",
        "      <td> 2011-01-20</td>\n",
        "    </tr>\n",
        "    <tr>\n",
        "      <th>4 </th>\n",
        "      <td> Elizabeth Thomas</td>\n",
        "      <td>              Snow White</td>\n",
        "      <td> 5</td>\n",
        "      <td> 2011-01-19</td>\n",
        "    </tr>\n",
        "    <tr>\n",
        "      <th>5 </th>\n",
        "      <td> Elizabeth Thomas</td>\n",
        "      <td>                  Avatar</td>\n",
        "      <td> 3</td>\n",
        "      <td> 2011-01-15</td>\n",
        "    </tr>\n",
        "    <tr>\n",
        "      <th>6 </th>\n",
        "      <td>     Daniel Lewis</td>\n",
        "      <td>              Snow White</td>\n",
        "      <td> 4</td>\n",
        "      <td>       None</td>\n",
        "    </tr>\n",
        "    <tr>\n",
        "      <th>7 </th>\n",
        "      <td>    Chris Jackson</td>\n",
        "      <td>      The Sound of Music</td>\n",
        "      <td> 3</td>\n",
        "      <td> 2011-01-27</td>\n",
        "    </tr>\n",
        "    <tr>\n",
        "      <th>8 </th>\n",
        "      <td>    Chris Jackson</td>\n",
        "      <td>                    E.T.</td>\n",
        "      <td> 2</td>\n",
        "      <td> 2011-01-22</td>\n",
        "    </tr>\n",
        "    <tr>\n",
        "      <th>9 </th>\n",
        "      <td>    Chris Jackson</td>\n",
        "      <td> Raiders of the Lost Ark</td>\n",
        "      <td> 4</td>\n",
        "      <td>       None</td>\n",
        "    </tr>\n",
        "    <tr>\n",
        "      <th>10</th>\n",
        "      <td>  Brittany Harris</td>\n",
        "      <td>      The Sound of Music</td>\n",
        "      <td> 2</td>\n",
        "      <td> 2011-01-20</td>\n",
        "    </tr>\n",
        "    <tr>\n",
        "      <th>11</th>\n",
        "      <td>  Brittany Harris</td>\n",
        "      <td> Raiders of the Lost Ark</td>\n",
        "      <td> 2</td>\n",
        "      <td> 2011-01-30</td>\n",
        "    </tr>\n",
        "    <tr>\n",
        "      <th>12</th>\n",
        "      <td>  Brittany Harris</td>\n",
        "      <td> Raiders of the Lost Ark</td>\n",
        "      <td> 4</td>\n",
        "      <td> 2011-01-12</td>\n",
        "    </tr>\n",
        "    <tr>\n",
        "      <th>13</th>\n",
        "      <td>     Ashley White</td>\n",
        "      <td>                    E.T.</td>\n",
        "      <td> 3</td>\n",
        "      <td> 2011-01-02</td>\n",
        "    </tr>\n",
        "  </tbody>\n",
        "</table>\n",
        "</div>"
       ],
       "metadata": {},
       "output_type": "pyout",
       "prompt_number": 68,
       "text": [
        "                name                    title  stars  ratingDate\n",
        "0     Sarah Martinez       Gone with the Wind      2  2011-01-22\n",
        "1     Sarah Martinez       Gone with the Wind      4  2011-01-27\n",
        "2      Mike Anderson       Gone with the Wind      3  2011-01-09\n",
        "3      James Cameron                   Avatar      5  2011-01-20\n",
        "4   Elizabeth Thomas               Snow White      5  2011-01-19\n",
        "5   Elizabeth Thomas                   Avatar      3  2011-01-15\n",
        "6       Daniel Lewis               Snow White      4        None\n",
        "7      Chris Jackson       The Sound of Music      3  2011-01-27\n",
        "8      Chris Jackson                     E.T.      2  2011-01-22\n",
        "9      Chris Jackson  Raiders of the Lost Ark      4        None\n",
        "10   Brittany Harris       The Sound of Music      2  2011-01-20\n",
        "11   Brittany Harris  Raiders of the Lost Ark      2  2011-01-30\n",
        "12   Brittany Harris  Raiders of the Lost Ark      4  2011-01-12\n",
        "13      Ashley White                     E.T.      3  2011-01-02"
       ]
      }
     ],
     "prompt_number": 68
    },
    {
     "cell_type": "markdown",
     "metadata": {},
     "source": [
      "For all cases where the same reviewer rated the same movie twice and gave it a higher rating the second time, return the reviewer's name and the title of the movie. "
     ]
    },
    {
     "cell_type": "code",
     "collapsed": false,
     "input": [
      "dm= pd.read_sql(\"SELECT name, title FROM ((Rating R1 JOIN Rating R2 ON R1.rID = R2.rID and R1.mID = R2.mID and R1.stars > R2.stars and R1.ratingDate > R2.ratingDate) JOIN Reviewer ON R1.rID = Reviewer.rID) JOIN MOVIE ON R1.mID = Movie.mID\",con)\n",
      "dm "
     ],
     "language": "python",
     "metadata": {},
     "outputs": [
      {
       "html": [
        "<div style=\"max-height:1000px;max-width:1500px;overflow:auto;\">\n",
        "<table border=\"1\" class=\"dataframe\">\n",
        "  <thead>\n",
        "    <tr style=\"text-align: right;\">\n",
        "      <th></th>\n",
        "      <th>name</th>\n",
        "      <th>title</th>\n",
        "    </tr>\n",
        "  </thead>\n",
        "  <tbody>\n",
        "    <tr>\n",
        "      <th>0</th>\n",
        "      <td> Sarah Martinez</td>\n",
        "      <td> Gone with the Wind</td>\n",
        "    </tr>\n",
        "  </tbody>\n",
        "</table>\n",
        "</div>"
       ],
       "metadata": {},
       "output_type": "pyout",
       "prompt_number": 86,
       "text": [
        "             name               title\n",
        "0  Sarah Martinez  Gone with the Wind"
       ]
      }
     ],
     "prompt_number": 86
    },
    {
     "cell_type": "markdown",
     "metadata": {},
     "source": [
      "For each movie that has at least one rating, find the highest number of stars that movie received. Return the movie title and number of stars. Sort by movie title. "
     ]
    },
    {
     "cell_type": "code",
     "collapsed": false,
     "input": [
      "dn= pd.read_sql(\"SELECT title, MAX(stars) FROM Rating R JOIN Movie USING (mID) group by mID\",con)\n",
      "dn"
     ],
     "language": "python",
     "metadata": {},
     "outputs": [
      {
       "html": [
        "<div style=\"max-height:1000px;max-width:1500px;overflow:auto;\">\n",
        "<table border=\"1\" class=\"dataframe\">\n",
        "  <thead>\n",
        "    <tr style=\"text-align: right;\">\n",
        "      <th></th>\n",
        "      <th>title</th>\n",
        "      <th>MAX(stars)</th>\n",
        "    </tr>\n",
        "  </thead>\n",
        "  <tbody>\n",
        "    <tr>\n",
        "      <th>0</th>\n",
        "      <td>      Gone with the Wind</td>\n",
        "      <td> 4</td>\n",
        "    </tr>\n",
        "    <tr>\n",
        "      <th>1</th>\n",
        "      <td>      The Sound of Music</td>\n",
        "      <td> 3</td>\n",
        "    </tr>\n",
        "    <tr>\n",
        "      <th>2</th>\n",
        "      <td>                    E.T.</td>\n",
        "      <td> 3</td>\n",
        "    </tr>\n",
        "    <tr>\n",
        "      <th>3</th>\n",
        "      <td>              Snow White</td>\n",
        "      <td> 5</td>\n",
        "    </tr>\n",
        "    <tr>\n",
        "      <th>4</th>\n",
        "      <td>                  Avatar</td>\n",
        "      <td> 5</td>\n",
        "    </tr>\n",
        "    <tr>\n",
        "      <th>5</th>\n",
        "      <td> Raiders of the Lost Ark</td>\n",
        "      <td> 4</td>\n",
        "    </tr>\n",
        "  </tbody>\n",
        "</table>\n",
        "</div>"
       ],
       "metadata": {},
       "output_type": "pyout",
       "prompt_number": 106,
       "text": [
        "                     title  MAX(stars)\n",
        "0       Gone with the Wind           4\n",
        "1       The Sound of Music           3\n",
        "2                     E.T.           3\n",
        "3               Snow White           5\n",
        "4                   Avatar           5\n",
        "5  Raiders of the Lost Ark           4"
       ]
      }
     ],
     "prompt_number": 106
    },
    {
     "cell_type": "markdown",
     "metadata": {},
     "source": [
      "For each movie, return the title and the 'rating spread', that is, the difference between highest and lowest ratings given to that movie. Sort by rating spread from highest to lowest, then by movie title. "
     ]
    },
    {
     "cell_type": "code",
     "collapsed": false,
     "input": [
      "do= pd.read_sql(\"SELECT title, MAX(stars)-MIN(stars) as spr FROM Rating R JOIN Movie USING (mID) group by mID ORDER by spr desc\",con)\n",
      "do\n",
      "dp= pd.read_sql(\"SELECT title, MAX(stars)-MIN(stars) as spr FROM Rating R JOIN Movie USING (mID) group by mID ORDER by title\",con)\n",
      "dp"
     ],
     "language": "python",
     "metadata": {},
     "outputs": [
      {
       "html": [
        "<div style=\"max-height:1000px;max-width:1500px;overflow:auto;\">\n",
        "<table border=\"1\" class=\"dataframe\">\n",
        "  <thead>\n",
        "    <tr style=\"text-align: right;\">\n",
        "      <th></th>\n",
        "      <th>title</th>\n",
        "      <th>spr</th>\n",
        "    </tr>\n",
        "  </thead>\n",
        "  <tbody>\n",
        "    <tr>\n",
        "      <th>0</th>\n",
        "      <td>                  Avatar</td>\n",
        "      <td> 2</td>\n",
        "    </tr>\n",
        "    <tr>\n",
        "      <th>1</th>\n",
        "      <td>                    E.T.</td>\n",
        "      <td> 1</td>\n",
        "    </tr>\n",
        "    <tr>\n",
        "      <th>2</th>\n",
        "      <td>      Gone with the Wind</td>\n",
        "      <td> 2</td>\n",
        "    </tr>\n",
        "    <tr>\n",
        "      <th>3</th>\n",
        "      <td> Raiders of the Lost Ark</td>\n",
        "      <td> 2</td>\n",
        "    </tr>\n",
        "    <tr>\n",
        "      <th>4</th>\n",
        "      <td>              Snow White</td>\n",
        "      <td> 1</td>\n",
        "    </tr>\n",
        "    <tr>\n",
        "      <th>5</th>\n",
        "      <td>      The Sound of Music</td>\n",
        "      <td> 1</td>\n",
        "    </tr>\n",
        "  </tbody>\n",
        "</table>\n",
        "</div>"
       ],
       "metadata": {},
       "output_type": "pyout",
       "prompt_number": 110,
       "text": [
        "                     title  spr\n",
        "0                   Avatar    2\n",
        "1                     E.T.    1\n",
        "2       Gone with the Wind    2\n",
        "3  Raiders of the Lost Ark    2\n",
        "4               Snow White    1\n",
        "5       The Sound of Music    1"
       ]
      }
     ],
     "prompt_number": 110
    },
    {
     "cell_type": "markdown",
     "metadata": {},
     "source": [
      "Find the difference between the average rating of movies released before 1980 and the average rating of movies released after 1980. (Make sure to calculate the average rating for each movie, then the average of those averages for movies before 1980 and movies after. Don't just calculate the overall average rating before and after 1980.) "
     ]
    },
    {
     "cell_type": "code",
     "collapsed": false,
     "input": [
      "dq= pd.read_sql(\"SELECT AVG(old.aver) - AVG(young.aver) FROM ( SELECT AVG(stars) as aver FROM Rating WHERE mID in (SELECT mID FROM Movie WHERE year < 1980) GROUP by mID ) as old, ( SELECT AVG(stars) as aver FROM Rating WHERE mID in (SELECT mID FROM Movie WHERE year >= 1980) GROUP by mID ) as young\",con)\n",
      "dq"
     ],
     "language": "python",
     "metadata": {},
     "outputs": [
      {
       "ename": "DatabaseError",
       "evalue": "Execution failed on sql: SELECT AVG(old.aver) - AVG(young.aver) FROM ( SELECT AVG(stars) as aver FROM Rating WHERE mID in (SELECT mID FROM Movie WHERE year < 1980) GROUP by mID ) as old, ( SELECT AVG(stars) as aver FROM Rating WHERE mID in (SELECT mID FROM Movie WHERE year >= 1980) GROUP by mID ) as young",
       "output_type": "pyerr",
       "traceback": [
        "\u001b[1;31m---------------------------------------------------------------------------\u001b[0m\n\u001b[1;31mDatabaseError\u001b[0m                             Traceback (most recent call last)",
        "\u001b[1;32m<ipython-input-4-6a38ac5d276b>\u001b[0m in \u001b[0;36m<module>\u001b[1;34m()\u001b[0m\n\u001b[1;32m----> 1\u001b[1;33m \u001b[0mdq\u001b[0m\u001b[1;33m=\u001b[0m \u001b[0mpd\u001b[0m\u001b[1;33m.\u001b[0m\u001b[0mread_sql\u001b[0m\u001b[1;33m(\u001b[0m\u001b[1;34m\"SELECT AVG(old.aver) - AVG(young.aver) FROM ( SELECT AVG(stars) as aver FROM Rating WHERE mID in (SELECT mID FROM Movie WHERE year < 1980) GROUP by mID ) as old, ( SELECT AVG(stars) as aver FROM Rating WHERE mID in (SELECT mID FROM Movie WHERE year >= 1980) GROUP by mID ) as young\"\u001b[0m\u001b[1;33m,\u001b[0m\u001b[0mcon\u001b[0m\u001b[1;33m)\u001b[0m\u001b[1;33m\u001b[0m\u001b[0m\n\u001b[0m\u001b[0;32m      2\u001b[0m \u001b[0mdq\u001b[0m\u001b[1;33m\u001b[0m\u001b[0m\n",
        "\u001b[1;32m/usr/local/lib/python2.7/dist-packages/pandas/io/sql.pyc\u001b[0m in \u001b[0;36mread_sql\u001b[1;34m(sql, con, index_col, coerce_float, params, parse_dates, columns)\u001b[0m\n\u001b[0;32m    419\u001b[0m         return pandas_sql.read_sql(\n\u001b[0;32m    420\u001b[0m             \u001b[0msql\u001b[0m\u001b[1;33m,\u001b[0m \u001b[0mindex_col\u001b[0m\u001b[1;33m=\u001b[0m\u001b[0mindex_col\u001b[0m\u001b[1;33m,\u001b[0m \u001b[0mparams\u001b[0m\u001b[1;33m=\u001b[0m\u001b[0mparams\u001b[0m\u001b[1;33m,\u001b[0m\u001b[1;33m\u001b[0m\u001b[0m\n\u001b[1;32m--> 421\u001b[1;33m             coerce_float=coerce_float, parse_dates=parse_dates)\n\u001b[0m\u001b[0;32m    422\u001b[0m \u001b[1;33m\u001b[0m\u001b[0m\n\u001b[0;32m    423\u001b[0m     \u001b[1;32mif\u001b[0m \u001b[0mpandas_sql\u001b[0m\u001b[1;33m.\u001b[0m\u001b[0mhas_table\u001b[0m\u001b[1;33m(\u001b[0m\u001b[0msql\u001b[0m\u001b[1;33m)\u001b[0m\u001b[1;33m:\u001b[0m\u001b[1;33m\u001b[0m\u001b[0m\n",
        "\u001b[1;32m/usr/local/lib/python2.7/dist-packages/pandas/io/sql.pyc\u001b[0m in \u001b[0;36mread_sql\u001b[1;34m(self, sql, index_col, coerce_float, params, parse_dates)\u001b[0m\n\u001b[0;32m   1044\u001b[0m                  parse_dates=None):\n\u001b[0;32m   1045\u001b[0m         \u001b[0margs\u001b[0m \u001b[1;33m=\u001b[0m \u001b[0m_convert_params\u001b[0m\u001b[1;33m(\u001b[0m\u001b[0msql\u001b[0m\u001b[1;33m,\u001b[0m \u001b[0mparams\u001b[0m\u001b[1;33m)\u001b[0m\u001b[1;33m\u001b[0m\u001b[0m\n\u001b[1;32m-> 1046\u001b[1;33m         \u001b[0mcursor\u001b[0m \u001b[1;33m=\u001b[0m \u001b[0mself\u001b[0m\u001b[1;33m.\u001b[0m\u001b[0mexecute\u001b[0m\u001b[1;33m(\u001b[0m\u001b[1;33m*\u001b[0m\u001b[0margs\u001b[0m\u001b[1;33m)\u001b[0m\u001b[1;33m\u001b[0m\u001b[0m\n\u001b[0m\u001b[0;32m   1047\u001b[0m         \u001b[0mcolumns\u001b[0m \u001b[1;33m=\u001b[0m \u001b[1;33m[\u001b[0m\u001b[0mcol_desc\u001b[0m\u001b[1;33m[\u001b[0m\u001b[1;36m0\u001b[0m\u001b[1;33m]\u001b[0m \u001b[1;32mfor\u001b[0m \u001b[0mcol_desc\u001b[0m \u001b[1;32min\u001b[0m \u001b[0mcursor\u001b[0m\u001b[1;33m.\u001b[0m\u001b[0mdescription\u001b[0m\u001b[1;33m]\u001b[0m\u001b[1;33m\u001b[0m\u001b[0m\n\u001b[0;32m   1048\u001b[0m         \u001b[0mdata\u001b[0m \u001b[1;33m=\u001b[0m \u001b[0mself\u001b[0m\u001b[1;33m.\u001b[0m\u001b[0m_fetchall_as_list\u001b[0m\u001b[1;33m(\u001b[0m\u001b[0mcursor\u001b[0m\u001b[1;33m)\u001b[0m\u001b[1;33m\u001b[0m\u001b[0m\n",
        "\u001b[1;32m/usr/local/lib/python2.7/dist-packages/pandas/io/sql.pyc\u001b[0m in \u001b[0;36mexecute\u001b[1;34m(self, *args, **kwargs)\u001b[0m\n\u001b[0;32m   1039\u001b[0m \u001b[1;33m\u001b[0m\u001b[0m\n\u001b[0;32m   1040\u001b[0m             \u001b[0mex\u001b[0m \u001b[1;33m=\u001b[0m \u001b[0mDatabaseError\u001b[0m\u001b[1;33m(\u001b[0m\u001b[1;34m\"Execution failed on sql: %s\"\u001b[0m \u001b[1;33m%\u001b[0m \u001b[0margs\u001b[0m\u001b[1;33m[\u001b[0m\u001b[1;36m0\u001b[0m\u001b[1;33m]\u001b[0m\u001b[1;33m)\u001b[0m\u001b[1;33m\u001b[0m\u001b[0m\n\u001b[1;32m-> 1041\u001b[1;33m             \u001b[0mraise_with_traceback\u001b[0m\u001b[1;33m(\u001b[0m\u001b[0mex\u001b[0m\u001b[1;33m)\u001b[0m\u001b[1;33m\u001b[0m\u001b[0m\n\u001b[0m\u001b[0;32m   1042\u001b[0m \u001b[1;33m\u001b[0m\u001b[0m\n\u001b[0;32m   1043\u001b[0m     def read_sql(self, sql, index_col=None, coerce_float=True, params=None,\n",
        "\u001b[1;32m/usr/local/lib/python2.7/dist-packages/pandas/io/sql.pyc\u001b[0m in \u001b[0;36mexecute\u001b[1;34m(self, *args, **kwargs)\u001b[0m\n\u001b[0;32m   1028\u001b[0m                 \u001b[0mcur\u001b[0m\u001b[1;33m.\u001b[0m\u001b[0mexecute\u001b[0m\u001b[1;33m(\u001b[0m\u001b[1;33m*\u001b[0m\u001b[0margs\u001b[0m\u001b[1;33m,\u001b[0m \u001b[1;33m**\u001b[0m\u001b[0mkwargs\u001b[0m\u001b[1;33m)\u001b[0m\u001b[1;33m\u001b[0m\u001b[0m\n\u001b[0;32m   1029\u001b[0m             \u001b[1;32melse\u001b[0m\u001b[1;33m:\u001b[0m\u001b[1;33m\u001b[0m\u001b[0m\n\u001b[1;32m-> 1030\u001b[1;33m                 \u001b[0mcur\u001b[0m\u001b[1;33m.\u001b[0m\u001b[0mexecute\u001b[0m\u001b[1;33m(\u001b[0m\u001b[1;33m*\u001b[0m\u001b[0margs\u001b[0m\u001b[1;33m)\u001b[0m\u001b[1;33m\u001b[0m\u001b[0m\n\u001b[0m\u001b[0;32m   1031\u001b[0m             \u001b[1;32mreturn\u001b[0m \u001b[0mcur\u001b[0m\u001b[1;33m\u001b[0m\u001b[0m\n\u001b[0;32m   1032\u001b[0m         \u001b[1;32mexcept\u001b[0m \u001b[0mException\u001b[0m \u001b[1;32mas\u001b[0m \u001b[0me\u001b[0m\u001b[1;33m:\u001b[0m\u001b[1;33m\u001b[0m\u001b[0m\n",
        "\u001b[1;31mDatabaseError\u001b[0m: Execution failed on sql: SELECT AVG(old.aver) - AVG(young.aver) FROM ( SELECT AVG(stars) as aver FROM Rating WHERE mID in (SELECT mID FROM Movie WHERE year < 1980) GROUP by mID ) as old, ( SELECT AVG(stars) as aver FROM Rating WHERE mID in (SELECT mID FROM Movie WHERE year >= 1980) GROUP by mID ) as young"
       ]
      }
     ],
     "prompt_number": 4
    },
    {
     "cell_type": "heading",
     "level": 1,
     "metadata": {},
     "source": [
      "The Social Network"
     ]
    },
    {
     "cell_type": "markdown",
     "metadata": {},
     "source": [
      "Students at your hometown high school have decided to organize their social network using databases. So far, they have collected information about sixteen students in four grades, 9-12. Here's the schema: \n",
      "\n",
      "Highschooler ( ID, name, grade ) \n",
      "English: There is a high school student with unique ID and a given first name in a certain grade. \n",
      "\n",
      "Friend ( ID1, ID2 ) \n",
      "English: The student with ID1 is friends with the student with ID2. Friendship is mutual, so if (123, 456) is in the Friend table, so is (456, 123). \n",
      "\n",
      "Likes ( ID1, ID2 ) \n",
      "English: The student with ID1 likes the student with ID2. Liking someone is not necessarily mutual, so if (123, 456) is in the Likes table, there is no guarantee that (456, 123) is also present. "
     ]
    },
    {
     "cell_type": "code",
     "collapsed": false,
     "input": [
      "con = sqlite3.connect(\"social.sqlite\")\n",
      "df = pd.read_sql(\"SELECT * from Highschooler limit 3\", con)\n",
      "df"
     ],
     "language": "python",
     "metadata": {},
     "outputs": [
      {
       "html": [
        "<div style=\"max-height:1000px;max-width:1500px;overflow:auto;\">\n",
        "<table border=\"1\" class=\"dataframe\">\n",
        "  <thead>\n",
        "    <tr style=\"text-align: right;\">\n",
        "      <th></th>\n",
        "      <th>ID</th>\n",
        "      <th>name</th>\n",
        "      <th>grade</th>\n",
        "    </tr>\n",
        "  </thead>\n",
        "  <tbody>\n",
        "    <tr>\n",
        "      <th>0</th>\n",
        "      <td> 1510</td>\n",
        "      <td>  Jordan</td>\n",
        "      <td> 9</td>\n",
        "    </tr>\n",
        "    <tr>\n",
        "      <th>1</th>\n",
        "      <td> 1689</td>\n",
        "      <td> Gabriel</td>\n",
        "      <td> 9</td>\n",
        "    </tr>\n",
        "    <tr>\n",
        "      <th>2</th>\n",
        "      <td> 1381</td>\n",
        "      <td> Tiffany</td>\n",
        "      <td> 9</td>\n",
        "    </tr>\n",
        "  </tbody>\n",
        "</table>\n",
        "</div>"
       ],
       "metadata": {},
       "output_type": "pyout",
       "prompt_number": 2,
       "text": [
        "     ID     name  grade\n",
        "0  1510   Jordan      9\n",
        "1  1689  Gabriel      9\n",
        "2  1381  Tiffany      9"
       ]
      }
     ],
     "prompt_number": 2
    },
    {
     "cell_type": "markdown",
     "metadata": {},
     "source": [
      "Find the names of all students who are friends with someone named Gabriel. \n"
     ]
    },
    {
     "cell_type": "code",
     "collapsed": false,
     "input": [
      "ea= pd.read_sql(\"SELECT name FROM (Friend JOIN HighSchooler ON ID1 = ID) WHERE ID2 IN (SELECT ID FROM HighSchooler WHERE name like '%Gabriel%')\",con)\n",
      "ea"
     ],
     "language": "python",
     "metadata": {},
     "outputs": [
      {
       "html": [
        "<div style=\"max-height:1000px;max-width:1500px;overflow:auto;\">\n",
        "<table border=\"1\" class=\"dataframe\">\n",
        "  <thead>\n",
        "    <tr style=\"text-align: right;\">\n",
        "      <th></th>\n",
        "      <th>name</th>\n",
        "    </tr>\n",
        "  </thead>\n",
        "  <tbody>\n",
        "    <tr>\n",
        "      <th>0</th>\n",
        "      <td>    Jordan</td>\n",
        "    </tr>\n",
        "    <tr>\n",
        "      <th>1</th>\n",
        "      <td>    Alexis</td>\n",
        "    </tr>\n",
        "    <tr>\n",
        "      <th>2</th>\n",
        "      <td> Cassandra</td>\n",
        "    </tr>\n",
        "    <tr>\n",
        "      <th>3</th>\n",
        "      <td>    Andrew</td>\n",
        "    </tr>\n",
        "    <tr>\n",
        "      <th>4</th>\n",
        "      <td>   Jessica</td>\n",
        "    </tr>\n",
        "  </tbody>\n",
        "</table>\n",
        "</div>"
       ],
       "metadata": {},
       "output_type": "pyout",
       "prompt_number": 4,
       "text": [
        "        name\n",
        "0     Jordan\n",
        "1     Alexis\n",
        "2  Cassandra\n",
        "3     Andrew\n",
        "4    Jessica"
       ]
      }
     ],
     "prompt_number": 4
    },
    {
     "cell_type": "markdown",
     "metadata": {},
     "source": [
      "For every student who likes someone 2 or more grades younger than themselves, return that student's name and grade, and the name and grade of the student they like. "
     ]
    },
    {
     "cell_type": "code",
     "collapsed": false,
     "input": [
      "eb= pd.read_sql(\"SELECT H1.name, H1.grade, H2.name, H2.grade FROM HighSchooler H1 JOIN ( Likes JOIN HighSchooler H2 ON H2.ID = ID2 ) ON H1.ID = ID1 WHERE H1.grade > (H2.grade+1)\",con)\n",
      "eb"
     ],
     "language": "python",
     "metadata": {},
     "outputs": [
      {
       "html": [
        "<div style=\"max-height:1000px;max-width:1500px;overflow:auto;\">\n",
        "<table border=\"1\" class=\"dataframe\">\n",
        "  <thead>\n",
        "    <tr style=\"text-align: right;\">\n",
        "      <th></th>\n",
        "      <th>H1.name</th>\n",
        "      <th>H1.grade</th>\n",
        "      <th>H2.name</th>\n",
        "      <th>H2.grade</th>\n",
        "    </tr>\n",
        "  </thead>\n",
        "  <tbody>\n",
        "    <tr>\n",
        "      <th>0</th>\n",
        "      <td> John</td>\n",
        "      <td> 12</td>\n",
        "      <td> Haley</td>\n",
        "      <td> 10</td>\n",
        "    </tr>\n",
        "  </tbody>\n",
        "</table>\n",
        "</div>"
       ],
       "metadata": {},
       "output_type": "pyout",
       "prompt_number": 28,
       "text": [
        "  H1.name  H1.grade H2.name  H2.grade\n",
        "0    John        12   Haley        10"
       ]
      }
     ],
     "prompt_number": 28
    },
    {
     "cell_type": "markdown",
     "metadata": {},
     "source": [
      "For every pair of students who both like each other, return the name and grade of both students. Include each pair only once, with the two names in alphabetical order. "
     ]
    },
    {
     "cell_type": "code",
     "collapsed": false,
     "input": [
      "ec= pd.read_sql(\"SELECT H1.name, H1.grade, H2.name, H2.grade FROM HighSchooler H1 JOIN ( (SELECT ID1 as VarID, ID2 FROM Likes WHERE ID2 IN (SELECT ID1 FROM Likes WHERE VarID = ID2)) JOIN HighSchooler H2 ON H2.ID = ID2 ) ON H1.ID = VarID and H1.Name < H2.Name ORDER BY H1.name, H2.name\",con)\n",
      "ec"
     ],
     "language": "python",
     "metadata": {},
     "outputs": [
      {
       "html": [
        "<div style=\"max-height:1000px;max-width:1500px;overflow:auto;\">\n",
        "<table border=\"1\" class=\"dataframe\">\n",
        "  <thead>\n",
        "    <tr style=\"text-align: right;\">\n",
        "      <th></th>\n",
        "      <th>H1.name</th>\n",
        "      <th>H1.grade</th>\n",
        "      <th>H2.name</th>\n",
        "      <th>H2.grade</th>\n",
        "    </tr>\n",
        "  </thead>\n",
        "  <tbody>\n",
        "    <tr>\n",
        "      <th>0</th>\n",
        "      <td> Cassandra</td>\n",
        "      <td>  9</td>\n",
        "      <td> Gabriel</td>\n",
        "      <td>  9</td>\n",
        "    </tr>\n",
        "    <tr>\n",
        "      <th>1</th>\n",
        "      <td>   Jessica</td>\n",
        "      <td> 11</td>\n",
        "      <td>    Kyle</td>\n",
        "      <td> 12</td>\n",
        "    </tr>\n",
        "  </tbody>\n",
        "</table>\n",
        "</div>"
       ],
       "metadata": {},
       "output_type": "pyout",
       "prompt_number": 42,
       "text": [
        "     H1.name  H1.grade  H2.name  H2.grade\n",
        "0  Cassandra         9  Gabriel         9\n",
        "1    Jessica        11     Kyle        12"
       ]
      }
     ],
     "prompt_number": 42
    },
    {
     "cell_type": "markdown",
     "metadata": {},
     "source": [
      "Find all students who do not appear in the Likes table (as a student who likes or is liked) and return their names and grades. Sort by grade, then by name within each grade. "
     ]
    },
    {
     "cell_type": "code",
     "collapsed": false,
     "input": [
      "ed= pd.read_sql(\"SELECT name, grade FROM HighSchooler JOIN (SELECT ID as MID FROM HighSchooler EXCEPT SELECT ID1 FROM Likes INTERSECT SELECT ID as MID FROM HighSchooler EXCEPT SELECT ID2 FROM Likes) ON ID = MID ORDER by grade\",con)\n",
      "ed\n",
      "ee= pd.read_sql(\"SELECT name, grade FROM HighSchooler JOIN (SELECT ID as MID FROM HighSchooler EXCEPT SELECT ID1 FROM Likes INTERSECT SELECT ID as MID FROM HighSchooler EXCEPT SELECT ID2 FROM Likes) ON ID = MID ORDER by grade, name\",con)\n",
      "ee"
     ],
     "language": "python",
     "metadata": {},
     "outputs": [
      {
       "html": [
        "<div style=\"max-height:1000px;max-width:1500px;overflow:auto;\">\n",
        "<table border=\"1\" class=\"dataframe\">\n",
        "  <thead>\n",
        "    <tr style=\"text-align: right;\">\n",
        "      <th></th>\n",
        "      <th>name</th>\n",
        "      <th>grade</th>\n",
        "    </tr>\n",
        "  </thead>\n",
        "  <tbody>\n",
        "    <tr>\n",
        "      <th>0</th>\n",
        "      <td>  Jordan</td>\n",
        "      <td>  9</td>\n",
        "    </tr>\n",
        "    <tr>\n",
        "      <th>1</th>\n",
        "      <td> Tiffany</td>\n",
        "      <td>  9</td>\n",
        "    </tr>\n",
        "    <tr>\n",
        "      <th>2</th>\n",
        "      <td>   Logan</td>\n",
        "      <td> 12</td>\n",
        "    </tr>\n",
        "  </tbody>\n",
        "</table>\n",
        "</div>"
       ],
       "metadata": {},
       "output_type": "pyout",
       "prompt_number": 5,
       "text": [
        "      name  grade\n",
        "0   Jordan      9\n",
        "1  Tiffany      9\n",
        "2    Logan     12"
       ]
      }
     ],
     "prompt_number": 5
    },
    {
     "cell_type": "markdown",
     "metadata": {},
     "source": [
      "For every situation where student A likes student B, but we have no information about whom B likes (that is, B does not appear as an ID1 in the Likes table), return A and B's names and grades. "
     ]
    },
    {
     "cell_type": "code",
     "collapsed": false,
     "input": [
      "ef= pd.read_sql(\"SELECT ID FROM HighSchooler EXCEPT SELECT ID1 FROM Likes INTERSECT SELECT ID FROM HighSchooler EXCEPT SELECT ID2 FROM Likes\",con)\n",
      "ef"
     ],
     "language": "python",
     "metadata": {},
     "outputs": [
      {
       "html": [
        "<div style=\"max-height:1000px;max-width:1500px;overflow:auto;\">\n",
        "<table border=\"1\" class=\"dataframe\">\n",
        "  <thead>\n",
        "    <tr style=\"text-align: right;\">\n",
        "      <th></th>\n",
        "      <th>ID</th>\n",
        "    </tr>\n",
        "  </thead>\n",
        "  <tbody>\n",
        "    <tr>\n",
        "      <th>0</th>\n",
        "      <td> 1381</td>\n",
        "    </tr>\n",
        "    <tr>\n",
        "      <th>1</th>\n",
        "      <td> 1510</td>\n",
        "    </tr>\n",
        "    <tr>\n",
        "      <th>2</th>\n",
        "      <td> 1661</td>\n",
        "    </tr>\n",
        "  </tbody>\n",
        "</table>\n",
        "</div>"
       ],
       "metadata": {},
       "output_type": "pyout",
       "prompt_number": 17,
       "text": [
        "     ID\n",
        "0  1381\n",
        "1  1510\n",
        "2  1661"
       ]
      }
     ],
     "prompt_number": 17
    },
    {
     "cell_type": "markdown",
     "metadata": {},
     "source": [
      "Find names and grades of students who only have friends in the same grade. Return the result sorted by grade, then by name within each grade. "
     ]
    },
    {
     "cell_type": "code",
     "collapsed": false,
     "input": [
      "eg= pd.read_sql(\"SELECT distinct H1.name, H1.grade FROM ( HighSchooler H1 JOIN Friend ON ID1 == H1.ID ) JOIN HighSchooler H2 ON H2.ID == ID2 WHERE H1.grade = H2.grade ORDER BY H1.grade, H1.name\",con)\n",
      "eg"
     ],
     "language": "python",
     "metadata": {},
     "outputs": [
      {
       "html": [
        "<div style=\"max-height:1000px;max-width:1500px;overflow:auto;\">\n",
        "<table border=\"1\" class=\"dataframe\">\n",
        "  <thead>\n",
        "    <tr style=\"text-align: right;\">\n",
        "      <th></th>\n",
        "      <th>name</th>\n",
        "      <th>grade</th>\n",
        "    </tr>\n",
        "  </thead>\n",
        "  <tbody>\n",
        "    <tr>\n",
        "      <th>0 </th>\n",
        "      <td> Cassandra</td>\n",
        "      <td>  9</td>\n",
        "    </tr>\n",
        "    <tr>\n",
        "      <th>1 </th>\n",
        "      <td>   Gabriel</td>\n",
        "      <td>  9</td>\n",
        "    </tr>\n",
        "    <tr>\n",
        "      <th>2 </th>\n",
        "      <td>    Jordan</td>\n",
        "      <td>  9</td>\n",
        "    </tr>\n",
        "    <tr>\n",
        "      <th>3 </th>\n",
        "      <td>   Tiffany</td>\n",
        "      <td>  9</td>\n",
        "    </tr>\n",
        "    <tr>\n",
        "      <th>4 </th>\n",
        "      <td>    Andrew</td>\n",
        "      <td> 10</td>\n",
        "    </tr>\n",
        "    <tr>\n",
        "      <th>5 </th>\n",
        "      <td>  Brittany</td>\n",
        "      <td> 10</td>\n",
        "    </tr>\n",
        "    <tr>\n",
        "      <th>6 </th>\n",
        "      <td>     Haley</td>\n",
        "      <td> 10</td>\n",
        "    </tr>\n",
        "    <tr>\n",
        "      <th>7 </th>\n",
        "      <td>      Kris</td>\n",
        "      <td> 10</td>\n",
        "    </tr>\n",
        "    <tr>\n",
        "      <th>8 </th>\n",
        "      <td>    Alexis</td>\n",
        "      <td> 11</td>\n",
        "    </tr>\n",
        "    <tr>\n",
        "      <th>9 </th>\n",
        "      <td>   Gabriel</td>\n",
        "      <td> 11</td>\n",
        "    </tr>\n",
        "    <tr>\n",
        "      <th>10</th>\n",
        "      <td>   Jessica</td>\n",
        "      <td> 11</td>\n",
        "    </tr>\n",
        "    <tr>\n",
        "      <th>11</th>\n",
        "      <td>      John</td>\n",
        "      <td> 12</td>\n",
        "    </tr>\n",
        "    <tr>\n",
        "      <th>12</th>\n",
        "      <td>    Jordan</td>\n",
        "      <td> 12</td>\n",
        "    </tr>\n",
        "    <tr>\n",
        "      <th>13</th>\n",
        "      <td>      Kyle</td>\n",
        "      <td> 12</td>\n",
        "    </tr>\n",
        "    <tr>\n",
        "      <th>14</th>\n",
        "      <td>     Logan</td>\n",
        "      <td> 12</td>\n",
        "    </tr>\n",
        "  </tbody>\n",
        "</table>\n",
        "</div>"
       ],
       "metadata": {},
       "output_type": "pyout",
       "prompt_number": 5,
       "text": [
        "         name  grade\n",
        "0   Cassandra      9\n",
        "1     Gabriel      9\n",
        "2      Jordan      9\n",
        "3     Tiffany      9\n",
        "4      Andrew     10\n",
        "5    Brittany     10\n",
        "6       Haley     10\n",
        "7        Kris     10\n",
        "8      Alexis     11\n",
        "9     Gabriel     11\n",
        "10    Jessica     11\n",
        "11       John     12\n",
        "12     Jordan     12\n",
        "13       Kyle     12\n",
        "14      Logan     12"
       ]
      }
     ],
     "prompt_number": 5
    },
    {
     "cell_type": "markdown",
     "metadata": {},
     "source": [
      "For each student A who likes a student B where the two are not friends, find if they have a friend C in common (who can introduce them!). For all such trios, return the name and grade of A, B, and C. "
     ]
    },
    {
     "cell_type": "code",
     "collapsed": false,
     "input": [
      "eh= pd.read_sql(\"SELECT Liker.name, Likee.name, Mutual.name FROM ( SELECT name, ID, L.ID2 as ID2, F.ID2 as FID2  FROM (HighSchooler JOIN Likes L ON ID = L.ID1) JOIN Friend F ON ID = F.ID1 ) AS Liker, ( SELECT name, ID, L.ID2 as ID2, F.ID2 as FID2  FROM (HighSchooler JOIN Likes L ON ID = L.ID1) JOIN Friend F ON ID = F.ID1 ) AS Likee, ( SELECT name, ID FROM HighSchooler JOIN Friend F ON ID = F.ID1 GROUP BY ID ) AS Mutual WHERE Liker.ID2 == Likee.ID and Liker.FID2 == Mutual.ID and Likee.FID2 == Mutual.ID\",con)\n",
      "eh"
     ],
     "language": "python",
     "metadata": {},
     "outputs": [
      {
       "html": [
        "<div style=\"max-height:1000px;max-width:1500px;overflow:auto;\">\n",
        "<table border=\"1\" class=\"dataframe\">\n",
        "  <thead>\n",
        "    <tr style=\"text-align: right;\">\n",
        "      <th></th>\n",
        "      <th>Liker.name</th>\n",
        "      <th>Likee.name</th>\n",
        "      <th>Mutual.name</th>\n",
        "    </tr>\n",
        "  </thead>\n",
        "  <tbody>\n",
        "    <tr>\n",
        "      <th>0</th>\n",
        "      <td> Gabriel</td>\n",
        "      <td>    Alexis</td>\n",
        "      <td> Jessica</td>\n",
        "    </tr>\n",
        "    <tr>\n",
        "      <th>1</th>\n",
        "      <td>  Andrew</td>\n",
        "      <td> Cassandra</td>\n",
        "      <td> Gabriel</td>\n",
        "    </tr>\n",
        "  </tbody>\n",
        "</table>\n",
        "</div>"
       ],
       "metadata": {},
       "output_type": "pyout",
       "prompt_number": 59,
       "text": [
        "  Liker.name Likee.name Mutual.name\n",
        "0    Gabriel     Alexis     Jessica\n",
        "1     Andrew  Cassandra     Gabriel"
       ]
      }
     ],
     "prompt_number": 59
    },
    {
     "cell_type": "markdown",
     "metadata": {},
     "source": [
      "Find the difference between the number of students in the school and the number of different first names. \n"
     ]
    },
    {
     "cell_type": "code",
     "collapsed": false,
     "input": [],
     "language": "python",
     "metadata": {},
     "outputs": [],
     "prompt_number": 5
    },
    {
     "cell_type": "markdown",
     "metadata": {},
     "source": [
      "Find the name and grade of all students who are liked by more than one other student. \n"
     ]
    },
    {
     "cell_type": "code",
     "collapsed": false,
     "input": [],
     "language": "python",
     "metadata": {},
     "outputs": [],
     "prompt_number": 5
    },
    {
     "cell_type": "heading",
     "level": 2,
     "metadata": {},
     "source": [
      "Modification"
     ]
    },
    {
     "cell_type": "markdown",
     "metadata": {},
     "source": [
      "Add the reviewer Roger Ebert to your database, with an rID of 209. \n"
     ]
    },
    {
     "cell_type": "code",
     "collapsed": false,
     "input": [],
     "language": "python",
     "metadata": {},
     "outputs": [],
     "prompt_number": 5
    },
    {
     "cell_type": "markdown",
     "metadata": {},
     "source": [
      "Insert 5-star ratings by James Cameron for all movies in the database. Leave the review date as NULL. \n"
     ]
    },
    {
     "cell_type": "code",
     "collapsed": false,
     "input": [],
     "language": "python",
     "metadata": {},
     "outputs": [],
     "prompt_number": 5
    },
    {
     "cell_type": "markdown",
     "metadata": {},
     "source": [
      "For all movies that have an average rating of 4 stars or higher, add 25 to the release year. (Update the existing tuples; don't insert new tuples.) "
     ]
    },
    {
     "cell_type": "code",
     "collapsed": false,
     "input": [],
     "language": "python",
     "metadata": {},
     "outputs": [],
     "prompt_number": 5
    },
    {
     "cell_type": "markdown",
     "metadata": {},
     "source": [
      "Remove all ratings where the movie's year is before 1970 or after 2000, and the rating is fewer than 4 stars. "
     ]
    },
    {
     "cell_type": "code",
     "collapsed": false,
     "input": [],
     "language": "python",
     "metadata": {},
     "outputs": [],
     "prompt_number": 0
    },
    {
     "cell_type": "markdown",
     "metadata": {},
     "source": [
      "It's time for the seniors to graduate. Remove all 12th graders from Highschooler. \n"
     ]
    },
    {
     "cell_type": "code",
     "collapsed": false,
     "input": [],
     "language": "python",
     "metadata": {},
     "outputs": [],
     "prompt_number": 0
    },
    {
     "cell_type": "markdown",
     "metadata": {},
     "source": [
      "If two students A and B are friends, and A likes B but not vice-versa, remove the Likes tuple. \n"
     ]
    },
    {
     "cell_type": "code",
     "collapsed": false,
     "input": [],
     "language": "python",
     "metadata": {},
     "outputs": [],
     "prompt_number": 0
    },
    {
     "cell_type": "markdown",
     "metadata": {},
     "source": [
      "For all cases where A is friends with B, and B is friends with C, add a new friendship for the pair A and C. Do not add duplicate friendships, friendships that already exist, or friendships with oneself. (This one is a bit challenging; congratulations if you get it right.) "
     ]
    },
    {
     "cell_type": "code",
     "collapsed": false,
     "input": [],
     "language": "python",
     "metadata": {},
     "outputs": []
    }
   ],
   "metadata": {}
  }
 ]
}